{
 "cells": [
  {
   "cell_type": "markdown",
   "metadata": {},
   "source": [
    "# Homework 5: Naive Bayes, Cross-Validation, and VC Dimension \n",
    "***\n",
    "\n",
    "**Name**: \n",
    "\n",
    "***\n",
    "\n",
    "This assignment is due on Moodle by **5pm on Wednesday April 18th**. Your solutions to theoretical questions should be done in Markdown/MathJax directly below the associated question.  Your solutions to computational questions should include any specified Python code and results as well as written commentary on your conclusions.  Remember that you are encouraged to discuss the problems with your instructors and classmates, but **you must write all code and solutions on your own**.  For a refresher on the course **Collaboration Policy** click [here](https://github.com/chrisketelsen/CSCI-4622-Machine-Learning/blob/master/resources/syllabus.md#collaboration-policy).\n",
    "\n",
    "**NOTES**: \n",
    "\n",
    "- Do **NOT** load or use any Python packages that are not available in Anaconda 3.6. \n",
    "- Some problems with code may be autograded.  If we provide a function API **do not** change it.  If we do not provide a function API then you're free to structure your code however you like. \n",
    "- Submit only this Jupyter notebook to Moodle.  Do not compress it using tar, rar, zip, etc. "
   ]
  },
  {
   "cell_type": "code",
   "execution_count": 2,
   "metadata": {
    "ExecuteTime": {
     "end_time": "2018-04-03T14:42:01.964923Z",
     "start_time": "2018-04-03T14:42:01.249718Z"
    },
    "collapsed": true,
    "scrolled": false
   },
   "outputs": [],
   "source": [
    "import pickle, gzip\n",
    "import numpy as np\n",
    "import matplotlib.pylab as plt\n",
    "%matplotlib inline"
   ]
  },
  {
   "cell_type": "markdown",
   "metadata": {},
   "source": [
    "### [15 points] Problem 1 - Naive Bayes for Tennis Prediction \n",
    "***\n",
    "\n",
    "Suppose you are trying to learn a person's decision whether to play tennis or not on a given day using features corresponding to precipitation forecast, temperature, humidity, and wind. You're given the following training data: \n",
    "\n",
    "$$\n",
    "\\begin{array}{c|c|c|c|c}\n",
    "\\textbf{Forecast} & \\textbf{Temp} & \\textbf{Humidity} & \\textbf{Wind} & \\textbf{PlayTennis} \\\\\n",
    "\\hline \n",
    "\\textrm{sunny} & \\textrm{hot} & \\textrm{high} & \\textrm{weak} & \\textbf{No} \\\\ \n",
    "\\textrm{sunny} & \\textrm{hot} & \\textrm{high} & \\textrm{strong} & \\textbf{No} \\\\ \n",
    "\\textrm{overcast} & \\textrm{hot} & \\textrm{high} & \\textrm{weak} & \\textbf{Yes} \\\\ \n",
    "\\textrm{rainy} & \\textrm{mild} & \\textrm{high} & \\textrm{weak} & \\textbf{Yes} \\\\ \n",
    "\\textrm{rainy} & \\textrm{cool} & \\textrm{normal} & \\textrm{weak} & \\textbf{Yes} \\\\ \n",
    "\\textrm{rainy} & \\textrm{cool} & \\textrm{normal} & \\textrm{strong} & \\textbf{No} \\\\ \n",
    "\\textrm{overcast} & \\textrm{cool} & \\textrm{normal} & \\textrm{strong} & \\textbf{Yes} \\\\ \n",
    "\\textrm{sunny} & \\textrm{mild} & \\textrm{high} & \\textrm{weak} & \\textbf{No} \\\\ \n",
    "\\textrm{sunny} & \\textrm{cool} & \\textrm{normal} & \\textrm{weak} & \\textbf{Yes} \\\\ \n",
    "\\textrm{rainy} & \\textrm{mild} & \\textrm{normal} & \\textrm{weak} & \\textbf{Yes} \\\\ \n",
    "\\textrm{sunny} & \\textrm{mild} & \\textrm{normal} & \\textrm{strong} & \\textbf{Yes} \\\\ \n",
    "\\textrm{overcast} & \\textrm{mild} & \\textrm{high} & \\textrm{strong} & \\textbf{Yes} \\\\ \n",
    "\\textrm{overcast} & \\textrm{hot} & \\textrm{normal} & \\textrm{weak} & \\textbf{Yes} \\\\ \n",
    "\\textrm{rainy} & \\textrm{mild} & \\textrm{high} & \\textrm{strong} & \\textbf{No} \\\\ \n",
    "\\end{array}\n",
    "$$\n",
    "\n",
    "**Part A**: Estimate the priors $p(\\textrm{PlayTennis=Yes})$ and $p(\\textrm{PlayTennis=No})$ from the training data. \n",
    "\n"
   ]
  },
  {
   "cell_type": "markdown",
   "metadata": {
    "collapsed": true,
    "scrolled": true
   },
   "source": [
    "$$p(\\textrm{PlayTennis=Yes}) = \\frac{9}{14}, \\text{because there are 9 yeses out of total 14 of Yes and No} $$\n",
    "$$p(\\textrm{PlayTennis=No}) = \\frac{5}{14} , \\text{because there are 5 Nos out of total 14 of Yes and No} $$"
   ]
  },
  {
   "cell_type": "markdown",
   "metadata": {},
   "source": [
    "**Part B**: For each feature\n",
    "- state the vocabulary $V$ for the feature \n",
    "- estimate the class-conditional probabilities $p(\\textrm{feature value} \\mid \\textrm{PlayTennis})$ from the training data using Laplace add-one smoothing. Show your work. \n",
    "\n",
    "**Note**: There is no need to include any `UNK` features for this data. "
   ]
  },
  {
   "cell_type": "markdown",
   "metadata": {
    "collapsed": true
   },
   "source": [
    "$$X_{f} \\in \\textrm{{sunny, overcast, rainy}} $$\n",
    "$$X_{i} \\in \\textrm{{hot, mild, cool}} $$\n",
    "$$X_{h} \\in \\textrm{{high, normal}} $$\n",
    "$$X_{w} \\in \\textrm{{weak, strong}} $$\n",
    "\n",
    "$$ \\text{Remember that the Laplace Smoothing equation is} $$\n",
    "\n",
    "$$\\hat{p}(\\text{term | Class}) = \\frac{\\# \\text{ instances of term in Class} + 1}{\\# \\textrm{ total Words in Class} + |V|} , \\text{where |V| is how many distinct vocabulary} $$\n",
    "\n",
    "$$\\hat{p}(\\textrm{sunny | playtennis = Yes}) = \\frac{2+1}{9+3} = \\frac{3}{12} = \\frac{1}{4} $$\n",
    "$$\\hat{p}(\\textrm{sunny | playtennis = No}) = \\frac{3+1}{5+3} = \\frac{4}{8} = \\frac{1}{2} $$\n",
    "\n",
    "$$\\hat{p}(\\textrm{overcast | playtennis = Yes}) = \\frac{4+1}{9+3} = \\frac{5}{12} $$\n",
    "$$\\hat{p}(\\textrm{overcast | playtennis = No}) = \\frac{0+1}{5+3} = \\frac{1}{8} $$\n",
    "\n",
    "$$\\hat{p}(\\textrm{rainy | playtennis = Yes}) = \\frac{3+1}{9+3} = \\frac{4}{12} = \\frac{1}{3} $$\n",
    "$$\\hat{p}(\\textrm{rainy | playtennis = No}) = \\frac{2+1}{5+3} = \\frac{3}{8} $$\n",
    "\n",
    "$$\\hat{p}(\\textrm{hot | playtennis = Yes}) = \\frac{2+1}{9+3} = \\frac{3}{12} = \\frac{1}{4} $$\n",
    "$$\\hat{p}(\\textrm{hot | playtennis = No}) = \\frac{2+1}{5+3} = \\frac{3}{8} $$\n",
    "\n",
    "$$\\hat{p}(\\textrm{mild | playtennis = Yes}) = \\frac{4+1}{9+3} = \\frac{5}{12} $$\n",
    "$$\\hat{p}(\\textrm{mild | playtennis = No}) = \\frac{2+1}{5+3} = \\frac{3}{8} $$\n",
    "\n",
    "$$\\hat{p}(\\textrm{cool | playtennis = Yes}) = \\frac{3+1}{9+3} = \\frac{4}{12} = \\frac{1}{3} $$\n",
    "$$\\hat{p}(\\textrm{cool | playtennis = No}) = \\frac{1+1}{5+3} = \\frac{2}{8} = \\frac{1}{4}$$\n",
    "\n",
    "$$\\hat{p}(\\textrm{high | playtennis = Yes}) = \\frac{3+1}{9+2} = \\frac{4}{11} $$\n",
    "$$\\hat{p}(\\textrm{high | playtennis = No}) = \\frac{4+1}{5+2} = \\frac{5}{7} $$\n",
    "\n",
    "$$\\hat{p}(\\textrm{normal | playtennis = Yes}) = \\frac{6+1}{9+2} = \\frac{7}{11} $$\n",
    "$$\\hat{p}(\\textrm{normal | playtennis = No}) = \\frac{1+1}{5+2} = \\frac{2}{7} $$\n",
    "\n",
    "$$\\hat{p}(\\textrm{weak | playtennis = Yes}) = \\frac{6+1}{9+2} = \\frac{7}{11} $$\n",
    "$$\\hat{p}(\\textrm{weak | playtennis = No}) = \\frac{2+1}{5+2} = \\frac{3}{7} $$\n",
    "\n",
    "$$\\hat{p}(\\textrm{strong | playtennis = Yes}) = \\frac{3+1}{9+2} = \\frac{4}{11} $$\n",
    "$$\\hat{p}(\\textrm{strong | playtennis = No}) = \\frac{3+1}{5+2} = \\frac{4}{7} $$"
   ]
  },
  {
   "cell_type": "markdown",
   "metadata": {},
   "source": [
    "**Part C**: What would your Naive Bayes model predict for the following two weather conditions. Show all work.  \n",
    "- **Forecast**=overcast, **Temp**=cool, **Humidity**=high, **Wind**=weak  \n",
    "- **Forecast**=sunny, **Temp**=hot, **Humidity**=normal, **Wind**=strong  "
   ]
  },
  {
   "cell_type": "markdown",
   "metadata": {
    "collapsed": true
   },
   "source": [
    "$$x=[\\text{overcast, cool, high, weak}]$$\n",
    "$$\\hat{p}(\\textrm{overcast | playtennis = Yes}) = \\frac{4+1}{9+3} = \\frac{5}{12} $$\n",
    "$$\\hat{p}(\\textrm{overcast | playtennis = No}) = \\frac{0+1}{5+3} = \\frac{1}{8} $$\n",
    "\n",
    "$$\\hat{p}(\\textrm{cool | playtennis = Yes}) = \\frac{3+1}{9+3} = \\frac{4}{12} = \\frac{1}{3} $$\n",
    "$$\\hat{p}(\\textrm{cool | playtennis = No}) = \\frac{1+1}{5+3} = \\frac{2}{8} = \\frac{1}{4}$$\n",
    "\n",
    "$$\\hat{p}(\\textrm{high | playtennis = Yes}) = \\frac{3+1}{9+2} = \\frac{4}{11} $$\n",
    "$$\\hat{p}(\\textrm{high | playtennis = No}) = \\frac{4+1}{5+2} = \\frac{5}{7} $$\n",
    "\n",
    "$$\\hat{p}(\\textrm{weak | playtennis = Yes}) = \\frac{6+1}{9+2} = \\frac{7}{11} $$\n",
    "$$\\hat{p}(\\textrm{weak | playtennis = No}) = \\frac{2+1}{5+2} = \\frac{3}{7} $$\n",
    "\n",
    "$$\\text{For Yes: } \\frac{5}{12} \\times \\frac{1}{3} \\times \\frac{4}{11} \\times \\frac{7}{11} \\times \\frac{5}{8}= 0.0201$$\n",
    "$$\\text{For No: } \\frac{1}{8} \\times \\frac{1}{4} \\times \\frac{5}{7} \\times \\frac{3}{7} \\times \\frac{3}{8}= 0.003587372$$\n",
    "$$\\text{Yea is higher than No, so we predict Yes}$$\n",
    "\n",
    "$$x=[\\text{sunny, hot, normal, strong}]$$\n",
    "$$\\hat{p}(\\textrm{sunny | playtennis = Yes}) = \\frac{2+1}{9+3} = \\frac{3}{12} = \\frac{1}{4} $$\n",
    "$$\\hat{p}(\\textrm{sunny | playtennis = No}) = \\frac{3+1}{5+3} = \\frac{4}{8} = \\frac{1}{2} $$\n",
    "\n",
    "$$\\hat{p}(\\textrm{hot | playtennis = Yes}) = \\frac{2+1}{9+3} = \\frac{3}{12} = \\frac{1}{4} $$\n",
    "$$\\hat{p}(\\textrm{hot | playtennis = No}) = \\frac{2+1}{5+3} = \\frac{3}{8} $$\n",
    "\n",
    "$$\\hat{p}(\\textrm{normal | playtennis = Yes}) = \\frac{6+1}{9+2} = \\frac{7}{11} $$\n",
    "$$\\hat{p}(\\textrm{normal | playtennis = No}) = \\frac{1+1}{5+2} = \\frac{2}{7} $$\n",
    "\n",
    "$$\\hat{p}(\\textrm{strong | playtennis = Yes}) = \\frac{3+1}{9+2} = \\frac{4}{11} $$\n",
    "$$\\hat{p}(\\textrm{strong | playtennis = No}) = \\frac{3+1}{5+2} = \\frac{4}{7} $$\n",
    "\n",
    "$$\\text{For Yes: } \\frac{1}{4} \\times \\frac{1}{4} \\times \\frac{7}{11} \\times \\frac{4}{11} \\times \\frac{5}{8}= 0.009039256$$\n",
    "$$\\text{For No: } \\frac{1}{2} \\times \\frac{3}{8} \\times \\frac{2}{7} \\times \\frac{4}{7} \\times \\frac{3}{8}= 0.011479592$$\n",
    "$$\\text{No is higher than Yes, so we predict No}$$"
   ]
  },
  {
   "cell_type": "markdown",
   "metadata": {},
   "source": [
    "### [35 points] Problem 2 - Implementing Discrete Naive Bayes for Text Classification \n",
    "***\n",
    "\n",
    "In this problem you'll implement a general Discrete Naive Bayes class for text classification. Your tasks will be to implement `train`, `predict_log_score`, and `predict` routines to learn the Naive Bayes model parameters from a collection on text and make predictions on unseen validation data. \n",
    "\n",
    "The skeleton for the `TextNB` class is below. Note that this class is fairly similar to the one you worked with in the Hands-On Naive Bayes in-class notebook, so you should look there to remind yourself of the details. Scroll down to find more information about your tasks as well as unit tests.\n",
    "\n",
    "**Important Note**: In Problem 3 we'll be using the `TextNB` class to make predictions about Twitter data.  Since real-world text data typically has a large number of features, you'll want to make your implementation reasonably efficient so that your experiments in Problem 3 don't take forever. \n"
   ]
  },
  {
   "cell_type": "code",
   "execution_count": 9,
   "metadata": {
    "ExecuteTime": {
     "end_time": "2018-04-03T14:42:09.159492Z",
     "start_time": "2018-04-03T14:42:09.076713Z"
    },
    "collapsed": true,
    "scrolled": true
   },
   "outputs": [],
   "source": [
    "class TextNB:\n",
    "    def __init__(self, text_train, y_train, alpha=1.0):\n",
    "        \"\"\"\n",
    "        :param text_train: a list or ndarray of text strings to use as training data \n",
    "        :param y_train: an ndarray of true labels associated with the text data \n",
    "        :param alpha: the Laplace smoothing parameter \n",
    "        \"\"\"\n",
    "        \n",
    "        # store training data \n",
    "        self.text_train = text_train \n",
    "        self.y_train = y_train \n",
    "        \n",
    "        # store smoothing parameter\n",
    "        self.alpha = alpha \n",
    "        \n",
    "        # get number of classes\n",
    "#         print(\"Haha: \",len(set(y_train)))\n",
    "        self.num_classes = len(set(y_train))\n",
    "        \n",
    "        # initialize vocab to feature map \n",
    "        self.vocab = dict() \n",
    "        \n",
    "        # initialize class counts \n",
    "        self.class_counts = np.zeros(self.num_classes, dtype=int)\n",
    "        \n",
    "        # initialize feature counts (Note, will need to update this with the correct\n",
    "        # number of columns during the training process)\n",
    "        self.feature_counts = np.zeros((self.num_classes, 0), dtype=int)\n",
    "        \n",
    "    def train(self):\n",
    "        \"\"\"\n",
    "        Learn the vocabularly, class_counts, and feature counts from the training data \n",
    "        \"\"\"\n",
    "        \n",
    "        # TODO \n",
    "        A = set()\n",
    "        \n",
    "        for StringText in self.text_train:\n",
    "            for eachVoca in StringText.split(' '):\n",
    "                if len(eachVoca) > 0:\n",
    "                    A.add(eachVoca)\n",
    "#                 print(A)\n",
    "\n",
    "        self.vocab = dict(zip(list(A), range(len(A))))\n",
    "#         print(self.vocab)\n",
    "        \n",
    "        # populate the counts array \n",
    "#         vals, self.class_counts = np.unique(self.y_train, return_counts = True)\n",
    "        self.class_counts = np.array([np.sum(self.y_train == ii) for ii in range(self.num_classes)])\n",
    "        \n",
    "        # populate priors \n",
    "        self.priors = np.array([(self.class_counts[ii] + self.alpha )/ (np.sum(self.class_counts) + self.alpha * self.num_classes ) for ii in range(self.num_classes)])\n",
    "                    \n",
    "        # initialize feature counts \n",
    "        self.feature_counts = np.zeros((self.num_classes, len(self.vocab)), dtype=int)\n",
    "                    \n",
    "        for StringText, y_train_c in zip (self.text_train, self.y_train):\n",
    "            for eachVoca in StringText.split(' '):\n",
    "                if len(eachVoca) > 0:\n",
    "                    self.feature_counts[y_train_c, self.vocab[eachVoca]] += 1\n",
    "                    \n",
    "    def predict_log_score(self, text_str):\n",
    "        \"\"\"\n",
    "        Get the log-probability score for each class\n",
    "        for a query string\n",
    "        \n",
    "        :param text_str: a single string of text to compute the log_score for \n",
    "        \"\"\"\n",
    "        \n",
    "        # p(0|x) is propotional to p(x_1|0) * p(X_2|0) * p(0)\n",
    "        # log(p(x_1|0)) + log(p(X_2|0)) + log(p(0))\n",
    "        \n",
    "        # 1st features: x[0]\n",
    "        # 2nd class c = 1\n",
    "        \n",
    "        # TODO \n",
    "        \n",
    "        # class likelihood\n",
    "        class_scores = np.zeros(self.num_classes)\n",
    "        \n",
    "        for c in range(self.num_classes):\n",
    "            class_scores[c] += np.log(self.priors[c])\n",
    "            \n",
    "            for eachVoca in text_str.split(' '):\n",
    "                if len(eachVoca) > 0 and eachVoca in self.vocab:\n",
    "#                     print(eachVoca)\n",
    "                    class_scores[c] += np.log( (self.feature_counts[c, self.vocab[eachVoca]] + self.alpha) / (np.sum(self.feature_counts[c]) + self.alpha * len(self.vocab)) )\n",
    "        \n",
    "        return class_scores\n",
    "        \n",
    "    \n",
    "    def predict(self, text_list):\n",
    "        \"\"\"\n",
    "        Predict the class of each example in text_list  \n",
    "        \n",
    "        :param text_list: a list or ndarray of text strings to make predictions on \n",
    "        \"\"\"\n",
    "        \n",
    "        # TODO \n",
    "        \n",
    "        yhat = np.zeros(len(text_list), dtype=int)\n",
    "        \n",
    "        for ii, x in enumerate(text_list):\n",
    "            class_scores = self.predict_log_score(x)\n",
    "            yhat[ii] = np.argmax(class_scores)\n",
    "        \n",
    "        return yhat \n",
    "        \n",
    "        \n",
    "    def accuracy(self, text_list, y_true):\n",
    "        \"\"\"\n",
    "        Make predictions on texts in text_list and compute accuracy relative to \n",
    "        true labels in y_true \n",
    "        \n",
    "        :param text_list: a list or ndarray of text strings to make predictions on \n",
    "        :param y_list: an ndarray of true labels associated with the text data \n",
    "        \"\"\"\n",
    "        yhat = self.predict(text_list)\n",
    "        return np.sum(yhat == y_true)/len(y_true)\n",
    "        \n",
    "        "
   ]
  },
  {
   "cell_type": "markdown",
   "metadata": {},
   "source": [
    "**Part A**: Complete the `train` function in the `TextNB` class to prepare to make Naive Bayes predictions using Laplace smoothing.  In this routine you will need to populate the following data structures: \n",
    "\n",
    "`self.vocab`: A Python dictionary that maps distinct terms found in the training set to unique indices in $\\{0, 1, \\ldots, |V|-1\\}$.  This will allow us to quickly look up frequency counts for an encountered term in a Numpy array. Note that while the data is fairly clean (We've removed punctuation and made all characters lowercase) you should take care that you're not accidentally counting whitespace in the vocabulary. \n",
    "\n",
    "`self.class_counts`: A 1D Numpy array of length `self.num_classes` which counts the number of documents in the training set that belong to each class. \n",
    "\n",
    "`self.feature_counts`: A 2D Numpy array of dimensions `self.num_classes` $\\times$ $|V|$. The $(c,k)$-entry in this array should be the number of times that term $k$ appears in documents belonging to class $c$. Note that we're using the Bag-of-Words approach here, so if a term appears multiple times in a single document, each instance of that term should be counted.  \n",
    "\n",
    "When you think you're done, execute the following unit test, corresponding to the example starting on Slide 29 of [Lecture 24](https://www.cs.colorado.edu/~ketelsen/files/courses/csci4622/slides/lesson24.pdf). "
   ]
  },
  {
   "cell_type": "code",
   "execution_count": 23,
   "metadata": {
    "ExecuteTime": {
     "end_time": "2018-04-03T14:45:46.325834Z",
     "start_time": "2018-04-03T14:45:46.314267Z"
    },
    "scrolled": true
   },
   "outputs": [
    {
     "name": "stderr",
     "output_type": "stream",
     "text": [
      "testVocab (__main__.TestNB) ... ok\n",
      "testClassCounts (__main__.TestNB) ... ok\n",
      "testFeatureCounts (__main__.TestNB) ... ok\n",
      "\n",
      "----------------------------------------------------------------------\n",
      "Ran 3 tests in 0.006s\n",
      "\n",
      "OK\n"
     ]
    }
   ],
   "source": [
    "%run -i tests/tests.py \"prob 2A\""
   ]
  },
  {
   "cell_type": "markdown",
   "metadata": {},
   "source": [
    "**Part B**: Complete the `predict_log_score` function in the `TextNB` class to take in a single string of text and compute the associated log-score for each class. For now, you should use add-one Laplace smoothing for both the class-priors and the class-conditional probabilities.  In **Problem 3** we'll experiment with different variants of Laplace smoothing, so if you like you can read ahead now and implement the general version of Laplace smoothing from the beginning.  \n",
    "\n",
    "**Note**: For simplicity and testing purposes, do not implement an `UNK` feature.  Instead, if you encounter a term not in the vocabulary you can safely ignore it. \n",
    "\n",
    "When you think your `predict_log_score` function is working well, execute the following unit test. \n"
   ]
  },
  {
   "cell_type": "code",
   "execution_count": 24,
   "metadata": {
    "ExecuteTime": {
     "end_time": "2018-04-03T14:45:47.998683Z",
     "start_time": "2018-04-03T14:45:47.990764Z"
    },
    "scrolled": true
   },
   "outputs": [
    {
     "name": "stderr",
     "output_type": "stream",
     "text": [
      "testLogScore (__main__.TestNB) ... ok\n",
      "\n",
      "----------------------------------------------------------------------\n",
      "Ran 1 test in 0.003s\n",
      "\n",
      "OK\n"
     ]
    }
   ],
   "source": [
    "%run -i tests/tests.py \"prob 2B\""
   ]
  },
  {
   "cell_type": "markdown",
   "metadata": {},
   "source": [
    "**Part C**: Finally, implement the `predict` method to take in a list or ndarray of text data, call `predict_log_score`, and return a vector of predicted labels. \n",
    "\n",
    "When you think you're done, execute the following unit test. "
   ]
  },
  {
   "cell_type": "code",
   "execution_count": 25,
   "metadata": {
    "ExecuteTime": {
     "end_time": "2018-04-03T14:45:49.228361Z",
     "start_time": "2018-04-03T14:45:49.220931Z"
    },
    "scrolled": true
   },
   "outputs": [
    {
     "name": "stderr",
     "output_type": "stream",
     "text": [
      "testPredict (__main__.TestNB) ... ok\n",
      "\n",
      "----------------------------------------------------------------------\n",
      "Ran 1 test in 0.002s\n",
      "\n",
      "OK\n"
     ]
    }
   ],
   "source": [
    "%run -i tests/tests.py \"prob 2C\""
   ]
  },
  {
   "cell_type": "markdown",
   "metadata": {},
   "source": [
    "### [30 points] Problem 3: Predicting the Sentiment of Tweets sent from Passengers to Airlines \n",
    "***\n",
    "\n",
    "In this problem you'll use the `TextNB` class you wrote in **Problem 2** to make predictions about the sentiment of tweets sent by passengers to airlines.  Execute the following cell to load the data. "
   ]
  },
  {
   "cell_type": "code",
   "execution_count": 3,
   "metadata": {
    "ExecuteTime": {
     "end_time": "2018-04-03T14:45:55.395606Z",
     "start_time": "2018-04-03T14:45:55.371833Z"
    },
    "collapsed": true
   },
   "outputs": [],
   "source": [
    "f = open('data/airline_tweets.pklz','rb')\n",
    "text_train, y_train, text_valid, y_valid, text_all, y_all = pickle.load(f)\n",
    "f.close()\n"
   ]
  },
  {
   "cell_type": "markdown",
   "metadata": {},
   "source": [
    "**Part A**: Explore the data and answer the following questions: \n",
    "\n",
    "- How many total examples are there in the training and validation sets? \n",
    "- Which binary label ($\\{0,1\\}$) corresponds to tweets with positive and negative sentiment, respectively?\n",
    "- What percentage of tweets in the training set have true positive sentiment? \n",
    "- What percentage of tweets in the validation set have true positive sentiment? "
   ]
  },
  {
   "cell_type": "code",
   "execution_count": 26,
   "metadata": {},
   "outputs": [
    {
     "name": "stdout",
     "output_type": "stream",
     "text": [
      "4000\n",
      "4000\n"
     ]
    }
   ],
   "source": [
    "print(len(text_train)) # how many rows in training set\n",
    "print(len(text_valid)) # how many rows in validation set\n"
   ]
  },
  {
   "cell_type": "markdown",
   "metadata": {},
   "source": [
    "$$\\text{There are 4000 examples in the training and there are 4000 examples in validation sets} $$"
   ]
  },
  {
   "cell_type": "code",
   "execution_count": 9,
   "metadata": {
    "scrolled": false
   },
   "outputs": [
    {
     "name": "stdout",
     "output_type": "stream",
     "text": [
      "[   0    3    6   24   25   34   37   42   45   47   52   59   66   68\n",
      "   70   71   72   93   98  101  111  117  122  137  147  152  160  161\n",
      "  164  167  172  175  179  189  190  191  192  194  199  206  210  213\n",
      "  214  215  219  223  229  232  233  237  238  239  240  242  243  250\n",
      "  255  257  258  259  261  262  265  270  274  275  277  278  282  285\n",
      "  290  291  293  294  295  300  301  304  309  311  324  331  334  347\n",
      "  352  359  362  363  366  374  377  382  387  388  395  402  404  406\n",
      "  412  416  419  421  422  425  426  430  431  433  438  444  447  448\n",
      "  456  457  486  490  493  498  499  500  507  511  514  526  531  533\n",
      "  536  537  538  539  545  547  556  558  561  564  598  603  607  608\n",
      "  610  620  622  623  627  629  630  631  635  636  640  650  652  654\n",
      "  657  661  665  668  669  670  674  679  685  687  691  694  698  699\n",
      "  701  708  713  714  727  728  733  736  739  741  749  756  759  760\n",
      "  761  773  775  779  780  782  786  792  794  795  798  799  801  802\n",
      "  803  805  810  816  820  822  823  824  828  829  832  833  836  839\n",
      "  840  842  844  846  847  852  853  857  858  864  866  870  871  872\n",
      "  874  878  885  887  889  893  896  900  902  904  905  906  911  912\n",
      "  919  926  929  935  936  945  952  957  958  967  968  977  978  982\n",
      "  991  997 1008 1009 1015 1017 1021 1024 1031 1035 1036 1046 1054 1063\n",
      " 1064 1066 1069 1070 1074 1075 1076 1078 1080 1083 1086 1087 1090 1094\n",
      " 1095 1097 1098 1102 1105 1107 1111 1114 1117 1124 1128 1129 1139 1143\n",
      " 1144 1154 1160 1161 1168 1170 1176 1177 1191 1192 1194 1203 1206 1213\n",
      " 1215 1218 1221 1223 1224 1228 1231 1238 1242 1252 1253 1260 1264 1267\n",
      " 1269 1272 1277 1279 1281 1283 1290 1300 1307 1312 1325 1332 1333 1339\n",
      " 1341 1345 1351 1353 1357 1373 1377 1379 1380 1381 1382 1385 1388 1389\n",
      " 1390 1393 1399 1400 1406 1411 1416 1420 1423 1427 1434 1437 1439 1443\n",
      " 1445 1449 1450 1455 1461 1465 1467 1473 1474 1483 1486 1492 1493 1497\n",
      " 1501 1506 1509 1513 1514 1518 1519 1522 1526 1527 1530 1532 1534 1537\n",
      " 1541 1546 1550 1552 1554 1559 1560 1565 1566 1570 1572 1575 1579 1582\n",
      " 1585 1587 1588 1603 1605 1607 1612 1614 1616 1617 1623 1625 1627 1631\n",
      " 1633 1637 1638 1648 1654 1661 1662 1672 1673 1675 1680 1687 1688 1689\n",
      " 1690 1699 1703 1704 1705 1706 1708 1714 1717 1718 1726 1727 1736 1737\n",
      " 1739 1743 1747 1753 1757 1764 1766 1767 1782 1790 1794 1797 1800 1804\n",
      " 1806 1812 1819 1820 1821 1824 1830 1833 1837 1841 1847 1848 1853 1856\n",
      " 1859 1860 1864 1868 1873 1875 1879 1884 1886 1895 1896 1899 1902 1908\n",
      " 1912 1915 1916 1917 1918 1920 1929 1938 1952 1953 1956 1958 1962 1963\n",
      " 1968 1969 1971 1975 1979 1987 1988 1992 1995 1996 1999 2001 2007 2013\n",
      " 2019 2022 2023 2027 2029 2035 2036 2038 2039 2040 2041 2043 2045 2046\n",
      " 2049 2054 2058 2060 2063 2065 2066 2070 2074 2080 2092 2093 2095 2100\n",
      " 2106 2113 2117 2122 2135 2138 2145 2154 2158 2159 2160 2167 2169 2174\n",
      " 2176 2177 2184 2189 2193 2198 2199 2202 2207 2208 2209 2214 2217 2218\n",
      " 2222 2223 2224 2225 2232 2242 2244 2246 2247 2251 2255 2257 2258 2261\n",
      " 2269 2276 2283 2287 2288 2289 2294 2296 2299 2302 2303 2306 2309 2315\n",
      " 2316 2319 2324 2328 2340 2341 2342 2359 2364 2369 2372 2373 2382 2394\n",
      " 2396 2403 2415 2428 2429 2447 2449 2450 2452 2456 2459 2462 2466 2468\n",
      " 2474 2480 2483 2488 2494 2497 2501 2505 2506 2509 2517 2520 2521 2529\n",
      " 2532 2533 2542 2544 2545 2546 2549 2553 2571 2588 2595 2597 2598 2599\n",
      " 2600 2601 2604 2605 2624 2627 2628 2630 2648 2662 2663 2674 2688 2695\n",
      " 2704 2709 2710 2717 2720 2722 2723 2724 2725 2726 2741 2743 2747 2756\n",
      " 2763 2767 2769 2772 2773 2779 2780 2784 2786 2788 2792 2803 2804 2807\n",
      " 2809 2814 2818 2820 2832 2833 2835 2842 2845 2846 2847 2857 2859 2865\n",
      " 2880 2885 2886 2887 2888 2892 2894 2902 2903 2908 2910 2913 2914 2938\n",
      " 2940 2949 2956 2959 2960 2964 2965 2966 2969 2973 2978 2979 2987 2988\n",
      " 2990 2991 2994 2996 2998 3001 3003 3004 3008 3009 3011 3013 3014 3017\n",
      " 3021 3023 3033 3040 3042 3044 3048 3049 3054 3057 3067 3070 3077 3083\n",
      " 3092 3095 3096 3098 3102 3104 3108 3111 3112 3113 3114 3115 3117 3121\n",
      " 3124 3128 3133 3134 3138 3139 3142 3151 3154 3156 3171 3173 3176 3177\n",
      " 3180 3181 3189 3193 3197 3201 3203 3205 3215 3216 3220 3226 3231 3232\n",
      " 3234 3235 3237 3246 3255 3258 3262 3266 3277 3280 3281 3286 3287 3289\n",
      " 3291 3297 3309 3310 3315 3316 3317 3319 3322 3324 3326 3328 3333 3334\n",
      " 3335 3336 3337 3341 3345 3354 3355 3362 3363 3379 3383 3397 3398 3401\n",
      " 3417 3422 3428 3432 3433 3439 3446 3449 3455 3458 3470 3475 3480 3483\n",
      " 3485 3500 3506 3511 3522 3527 3535 3539 3545 3547 3548 3549 3550 3557\n",
      " 3561 3562 3563 3565 3570 3572 3583 3592 3603 3607 3612 3621 3624 3628\n",
      " 3629 3630 3634 3640 3641 3642 3644 3645 3647 3666 3667 3674 3683 3685\n",
      " 3686 3687 3691 3694 3698 3706 3707 3711 3712 3717 3718 3724 3732 3735\n",
      " 3738 3741 3742 3746 3753 3756 3759 3761 3765 3766 3767 3770 3771 3773\n",
      " 3778 3779 3782 3786 3791 3793 3796 3798 3799 3806 3814 3815 3818 3823\n",
      " 3824 3829 3830 3833 3834 3835 3837 3838 3839 3843 3846 3851 3854 3856\n",
      " 3859 3866 3867 3868 3875 3876 3878 3881 3892 3903 3916 3918 3922 3924\n",
      " 3927 3930 3939 3940 3944 3948 3952 3954 3957 3959 3961 3962 3963 3967\n",
      " 3969 3970 3971 3977 3989 3994]\n"
     ]
    }
   ],
   "source": [
    "print(np.where(y_train == 1)[0])\n"
   ]
  },
  {
   "cell_type": "markdown",
   "metadata": {},
   "source": [
    "$$\\text{All the values above are the indices of y_train that has positive sentiment}$$\n",
    "$$\\text{because they all have 1 at the end of tweet}$$\n",
    "$$\\text{An example of it would be when the index is 3}$$"
   ]
  },
  {
   "cell_type": "code",
   "execution_count": 66,
   "metadata": {},
   "outputs": [
    {
     "name": "stdout",
     "output_type": "stream",
     "text": [
      "@jetblue hopefully now my for jetblue will finally go through the 1\n"
     ]
    }
   ],
   "source": [
    "i = 3\n",
    "print(text_train[i], y_train[i])"
   ]
  },
  {
   "cell_type": "code",
   "execution_count": 6,
   "metadata": {},
   "outputs": [
    {
     "name": "stdout",
     "output_type": "stream",
     "text": [
      "[   1    2    4 ... 3997 3998 3999]\n"
     ]
    }
   ],
   "source": [
    "print(np.where(y_train == 0)[0])"
   ]
  },
  {
   "cell_type": "markdown",
   "metadata": {},
   "source": [
    "$$\\text{In this case, all the values above is negative, and label 0 at the end of tweet}$$\n",
    "$$\\text{An example of this when index is 2}$$"
   ]
  },
  {
   "cell_type": "code",
   "execution_count": 68,
   "metadata": {},
   "outputs": [
    {
     "name": "stdout",
     "output_type": "stream",
     "text": [
      "@usairways 45 minute delay for take off and 30 minute wait for checked bags really 0\n"
     ]
    }
   ],
   "source": [
    "i = 2\n",
    "print(text_train[i], y_train[i])"
   ]
  },
  {
   "cell_type": "code",
   "execution_count": 22,
   "metadata": {
    "collapsed": true
   },
   "outputs": [],
   "source": [
    "# print(text_train[1])\n",
    "# print(np.where(text_train == 1))\n",
    "# print(len(np.where(text_train == 1)[0]))\n",
    "# print(len(np.where(y_train == 1)[0]))"
   ]
  },
  {
   "cell_type": "code",
   "execution_count": 4,
   "metadata": {},
   "outputs": [
    {
     "name": "stdout",
     "output_type": "stream",
     "text": [
      "The percentage of true negative sentiment is: 25.0\n"
     ]
    }
   ],
   "source": [
    "# anywhere in the training data that is positive \n",
    "# print(\"The percentage of true positive sentiment is: {:}\".format(len(np.where(text_train == 1)[0]) / len(text_train) * 100))\n",
    "\n",
    "print(\"The percentage of true negative sentiment is: {:}\".format(len(np.where(y_train == 1)[0]) / len(y_train) * 100))\n"
   ]
  },
  {
   "cell_type": "code",
   "execution_count": 7,
   "metadata": {},
   "outputs": [],
   "source": [
    "# print(len(np.where(y_valid == 1)[0]))"
   ]
  },
  {
   "cell_type": "code",
   "execution_count": 8,
   "metadata": {},
   "outputs": [
    {
     "name": "stdout",
     "output_type": "stream",
     "text": [
      "The percentage in the y validation of true negative sentiment is: 23.075000000000003\n"
     ]
    }
   ],
   "source": [
    "# anywhere in the validation set data that is positive \n",
    "# print(\"The percentage in the text validation of true positive sentiment is: {:}\".format(len(np.where(text_valid == 1)[0]) / len(text_valid) * 100))\n",
    "\n",
    "print(\"The percentage in the y validation of true negative sentiment is: {:}\".format(len(np.where(y_valid == 1)[0]) / len(y_valid) * 100))\n"
   ]
  },
  {
   "cell_type": "markdown",
   "metadata": {},
   "source": [
    "**Part B**: Use your `TextNB` class to learn a Naive Bayes classifier for the airline Twitter data.  What accuracy do you achieve on the training set and what accuracy do you achieve on the test set? \n"
   ]
  },
  {
   "cell_type": "code",
   "execution_count": 16,
   "metadata": {},
   "outputs": [
    {
     "name": "stdout",
     "output_type": "stream",
     "text": [
      "The accuracy on the training set is: 0.93470\n",
      "The accuracy on the validation set is: 0.95059\n"
     ]
    }
   ],
   "source": [
    "AirlineTwitterTrain = TextNB(text_train, y_train)\n",
    "AirlineTwitterTrain.train()\n",
    "\n",
    "print(\"The accuracy on the training set is: {:.5f}\".format(AirlineTwitterTrain.accuracy(text_train, y_train)))\n",
    "\n",
    "AirlineTwitterValid = TextNB(text_valid, y_valid)\n",
    "AirlineTwitterValid.train()\n",
    "\n",
    "print(\"The accuracy on the validation set is: {:.5f}\".format(AirlineTwitterValid.accuracy(text_valid, y_valid)))\n"
   ]
  },
  {
   "cell_type": "markdown",
   "metadata": {},
   "source": [
    "**Part C**: Notice that if we want to make improvements in our Naive Bayes classifier, we don't really have a lot of knobs to turn aside from changing the word features that we use.  One place that we might make some gains though is in using a slightly different version of Laplace smoothing.  \n",
    "\n",
    "Recall that in add-one smoothing we add a $1$ to the numerator in both the estimation of the prior probabilities and the class-conditional likelihoods. \n",
    "\n",
    "$$\n",
    "\\hat{p}(\\textrm{Class}) = \\dfrac{\\textrm{# docs from Class}+1}{\\textrm{# total docs in training data} + |C|},\n",
    "\\quad \\quad\n",
    "\\hat{p}(\\textrm{term} \\mid \\textrm{Class}) = \\dfrac{\\textrm{# instance of term in Class}+1}{\\textrm{# total words in Class} + |V|}\n",
    "$$\n",
    "\n",
    "It turns out there's nothing sacred about adding $1$ to the numerators.  In fact, we can add any positive value $\\alpha$ that we like \n",
    "\n",
    "$$\n",
    "\\hat{p}(\\textrm{Class}) = \\dfrac{\\textrm{# docs from Class}+\\alpha}{\\textrm{# total docs in training data} + ?},\n",
    "\\quad \\quad\n",
    "\\hat{p}(\\textrm{term} \\mid \\textrm{Class}) = \\dfrac{\\textrm{# instance of term in Class}+\\alpha}{\\textrm{# total words in Class} + ?}\n",
    "$$\n",
    "\n",
    "Explain what modification must be made to the denominators so that theses estimates remain valid probabilities. Clearly justify your reasoning. \n",
    "\n",
    "Support this modification in your `TextNB` class above, if you have not already.  Make sure that your code still passes then unit tests when $\\alpha = 1$. "
   ]
  },
  {
   "cell_type": "markdown",
   "metadata": {
    "collapsed": true
   },
   "source": [
    "For the first one\n",
    "$$\n",
    "\\hat{p}(\\textrm{Class}) = \\dfrac{\\textrm{# docs from Class}+\\alpha}{\\textrm{# total docs in training data} + ?}\n",
    "$$"
   ]
  },
  {
   "cell_type": "markdown",
   "metadata": {},
   "source": [
    "\n",
    "$$\\text{The sum of probability is 1, it can't be more than 1}$$\n",
    "$$\\text{If we sum up all prior probabilities with } \\alpha = 2$$\n",
    "$$\\text{The question mark would be the value of } \\alpha \\text{ which is 2 multiply the number of } \\alpha$$\n",
    "$$\\text{Considering an example that if } \\alpha \\text{ is 2, and we have 3 things}$$\n",
    "$$\\frac{2+2}{8+x}, \\frac{3+2}{8+x}, \\frac{3+2}{8+x}$$\n",
    "$$\\text{Then, if we sum them up, we should get 1 because it's probability. It cannot be greater than 1, so}$$\n"
   ]
  },
  {
   "cell_type": "markdown",
   "metadata": {},
   "source": [
    "$$\\frac{(2+2+3+2+3+2)}{8+x}$$\n",
    "$$\\text{Considering if we rearrange it to become}$$\n",
    "$$\\frac{(2+3+3)+(2+2+2)}{8+x}$$\n",
    "$$\\text{We have amount 3 of } \\alpha \\text{ and multiply the value of } \\alpha \\text{ which is 2 that is 3 $\\cdot$ 2 = 6}$$"
   ]
  },
  {
   "cell_type": "markdown",
   "metadata": {},
   "source": [
    "For the second one\n",
    "$$\n",
    "\\hat{p}(\\textrm{term} \\mid \\textrm{Class}) = \\dfrac{\\textrm{# instance of term in Class}+\\alpha}{\\textrm{# total words in Class} + ?}\n",
    "$$"
   ]
  },
  {
   "cell_type": "markdown",
   "metadata": {},
   "source": [
    "$$\\text{Consider the following example:}$$"
   ]
  },
  {
   "cell_type": "markdown",
   "metadata": {},
   "source": [
    "$$\n",
    "\\begin{array}{c|c}\n",
    "\\textbf{HAM} & \\textbf{SPAM} \\\\\n",
    "\\hline \n",
    "\\textrm{work} & \\textrm{fly}  \\\\ \n",
    "\\textrm{money} & \\textrm{buy}  \\\\\n",
    "\\end{array}\n",
    "$$"
   ]
  },
  {
   "cell_type": "markdown",
   "metadata": {},
   "source": [
    "Let's say $\\alpha$ is 2 so,\n",
    "\n",
    "$\\hat{p}$(work | HAM) = $\\frac{1+2}{2+x}$\n",
    "\n",
    "$\\hat{p}$(fly | HAM) = $\\frac{1+2}{2+x}$\n",
    "\n",
    "$\\hat{p}$(buy | HAM) = $\\frac{0+2}{2+x}$\n",
    "\n",
    "$\\hat{p}$(money | HAM) = $\\frac{0+2}{2+x}$\n",
    "\n",
    "If we sum them up, we get $\\frac{1+2}{2+x}$ + $\\frac{1+2}{2+x}$ + $\\frac{0+2}{2+x}$ + $\\frac{0+2}{2+x}$\n",
    "\n",
    "If we rearrange the equation like this, $\\frac{(1+1+0+0)+(2+2+2+2)}{2+x}$, since $\\alpha$ = 2, and we have amount 4 of $\\alpha$, so it's 4 $\\cdot$ 2 = 8"
   ]
  },
  {
   "cell_type": "markdown",
   "metadata": {},
   "source": [
    "**Part D**: Write some code to perform $K$-Folds cross-validation on the entire data set (`train_all` and `y_all`) to estimate the accuracy of your NB classifier for various values of $\\alpha$ and make a plot showing your results.  \n",
    "\n",
    "To do the partitioning into folds I recommend leveraging sklearn's [StratifiedKFold]() routine.  The documentation demonstrates how it can be used.  \n",
    "\n",
    "For your plot, use at least $K=5$ folds and at least $5$ different values of $\\alpha$ between $0.1$ and $1.5$.  Which value of $\\alpha$ seems to perform the best? \n"
   ]
  },
  {
   "cell_type": "code",
   "execution_count": 12,
   "metadata": {},
   "outputs": [
    {
     "name": "stdout",
     "output_type": "stream",
     "text": [
      "Alpha = 0.100\n",
      "Average accuracy on training set 0.945\n",
      "Average accuracy on validation set 0.912\n",
      "Alpha = 0.256\n",
      "Average accuracy on training set 0.941\n",
      "Average accuracy on validation set 0.914\n",
      "Alpha = 0.411\n",
      "Average accuracy on training set 0.939\n",
      "Average accuracy on validation set 0.914\n",
      "Alpha = 0.567\n",
      "Average accuracy on training set 0.938\n",
      "Average accuracy on validation set 0.913\n",
      "Alpha = 0.722\n",
      "Average accuracy on training set 0.936\n",
      "Average accuracy on validation set 0.912\n",
      "Alpha = 0.878\n",
      "Average accuracy on training set 0.935\n",
      "Average accuracy on validation set 0.912\n",
      "Alpha = 1.033\n",
      "Average accuracy on training set 0.934\n",
      "Average accuracy on validation set 0.911\n",
      "Alpha = 1.189\n",
      "Average accuracy on training set 0.933\n",
      "Average accuracy on validation set 0.910\n",
      "Alpha = 1.344\n",
      "Average accuracy on training set 0.932\n",
      "Average accuracy on validation set 0.910\n",
      "Alpha = 1.500\n",
      "Average accuracy on training set 0.931\n",
      "Average accuracy on validation set 0.910\n"
     ]
    },
    {
     "data": {
      "text/plain": [
       "Text(0,0.5,'Validation accuracy')"
      ]
     },
     "execution_count": 12,
     "metadata": {},
     "output_type": "execute_result"
    },
    {
     "data": {
      "image/png": "[encoded data removed]",
      "text/plain": [
       "<matplotlib.figure.Figure at 0x1a0b7d4400>"
      ]
     },
     "metadata": {},
     "output_type": "display_data"
    }
   ],
   "source": [
    "from sklearn.model_selection import StratifiedKFold\n",
    "\n",
    "train_accuracies = np.zeros(10)\n",
    "valid_accuracies = np.zeros(10)\n",
    "AlphaSets = np.linspace(0.1, 1.5, 10)\n",
    "\n",
    "# skf = StratifiedKFold(n_splits = 5, shuffle = True)\n",
    "\n",
    "for i, Alpha in enumerate(AlphaSets):\n",
    "    tmp_train_accuracies = np.zeros(5)\n",
    "    tmp_valid_accuracies = np.zeros(5)\n",
    "    \n",
    "    skfold = StratifiedKFold(n_splits = 5, random_state = 1235, shuffle = True)\n",
    "    j = 0\n",
    "    for train_index, valid_index in skfold.split(text_all, y_all):\n",
    "#     print(\"text: \", train_index, \"test: \", valid_index)\n",
    "        text_train, text_valid = text_all[train_index], text_all[valid_index]\n",
    "        y_train, y_valid = y_all[train_index], y_all[valid_index]\n",
    "        AirlineTwitterTrain = TextNB(text_train, y_train, Alpha)\n",
    "        AirlineTwitterTrain.train()\n",
    "        tmp_train_accuracies[j] = AirlineTwitterTrain.accuracy(text_train, y_train)\n",
    "        tmp_valid_accuracies[j] = AirlineTwitterTrain.accuracy(text_valid, y_valid)\n",
    "        j = j + 1\n",
    "    train_accuracies[i] = np.mean(tmp_train_accuracies)\n",
    "    valid_accuracies[i] = np.mean(tmp_valid_accuracies)\n",
    "    \n",
    "    print(\"Alpha = {:.3f}\".format(Alpha))\n",
    "    print(\"Average accuracy on training set {:.3f}\".format(train_accuracies[i]))\n",
    "    print(\"Average accuracy on validation set {:.3f}\".format(valid_accuracies[i]))\n",
    "\n",
    "#     print(\"The accuracy on the training set is: {:.5f}\".format(AirlineTwitterTrain.accuracy(text_all, y_all)))\n",
    "    \n",
    "fig, ax = plt.subplots(nrows = 1, ncols = 1, figsize = (10,5))\n",
    "ax.plot(AlphaSets, valid_accuracies, color='black', marker='o')\n",
    "# ax.grid(Alpha = 0.25)\n",
    "ax.set_title('Accuracy of 5 folds for various alphas', fontsize = 16)\n",
    "ax.set_xlabel('Alpha values', fontsize = 15)\n",
    "ax.set_ylabel('Validation accuracy', fontsize = 15)\n",
    "\n"
   ]
  },
  {
   "cell_type": "markdown",
   "metadata": {},
   "source": [
    "$$\\text{Based on the plot, when K folds is 10, looks it performs the best when $\\alpha$ is at 0.4}$$\n",
    "$$$$\n"
   ]
  },
  {
   "cell_type": "markdown",
   "metadata": {},
   "source": [
    "### [20 points] Problem 4: VC Dimension \n",
    "***\n",
    "\n",
    "**Part A**: Consider learning to classify binary labeled data with a single feature $x$.  Let $H$ be the hypothesis class described by the union of two intervals $[a,b] \\cup [c,d]$ such that $h(x)$ labels an example as positive if it's in the interval $[a,b]$ **OR** the interval $[c,d]$.  Determine the VC Dimension of $H$.  Justify your conclusion by demonstrating a shattering of a set $S$ of the appropriate size **AND** by arguing that an arbitrary set consisting of one additional point cannot be shattered by $H$.   "
   ]
  },
  {
   "cell_type": "markdown",
   "metadata": {
    "collapsed": true
   },
   "source": [
    "$$\\text{The VC dimension is 4}$$\n",
    "$$\\text{Suppose we have 4 points, and we can list all possible combinations, there are 16 of them}$$\n",
    "$$$$\n",
    "$$**Step 1**$$\n",
    "\n",
    "$$\\text{Combination} \\quad \\quad \\text{Classifying} $$\n",
    "\n",
    "$$\n",
    "1) \\quad ++++ \\quad  \\quad \\quad [++][++]  \\quad \\checkmark\n",
    "$$\n",
    "$$$$\n",
    "$$\n",
    "2) \\quad +++- \\quad  \\quad \\quad [++][+]- \\quad \\checkmark\n",
    "$$\n",
    "$$$$\n",
    "$$\n",
    "3) \\quad ++-- \\quad  \\quad \\quad [+][+]-- \\quad \\checkmark\n",
    "$$\n",
    "$$$$\n",
    "$$\n",
    "4) \\quad ++-+ \\quad  \\quad \\quad [++]-[+] \\quad \\checkmark\n",
    "$$\n",
    "$$$$\n",
    "$$\n",
    "5) \\quad +--+ \\quad  \\quad \\quad [+]--[+] \\quad \\checkmark\n",
    "$$\n",
    "$$$$\n",
    "$$\n",
    "6) \\quad +--- \\quad \\quad \\quad [+]---[\\;] \\quad \\checkmark\n",
    "$$\n",
    "$$$$\n",
    "$$\n",
    "7) \\quad +-+- \\quad  \\quad \\quad [+]-[+]\\;- \\quad \\checkmark\n",
    "$$\n",
    "$$$$\n",
    "$$\n",
    "8) \\quad +-++ \\quad  \\quad \\quad [+]-[++] \\quad \\checkmark\n",
    "$$\n",
    "$$$$\n",
    "$$\n",
    "9) \\quad --++ \\quad  \\quad \\quad --[+][+] \\quad \\checkmark\n",
    "$$\n",
    "$$$$\n",
    "$$\n",
    "10) \\quad --+- \\quad  \\quad \\quad --[+]-[\\;] \\quad \\checkmark\n",
    "$$\n",
    "$$$$\n",
    "$$\n",
    "11) \\quad ---- \\quad  \\quad \\quad ----[\\;][\\;] \\quad \\checkmark\n",
    "$$\n",
    "$$$$\n",
    "$$\n",
    "12) \\quad ---+ \\quad  \\quad \\quad ---[+][\\;] \\quad \\checkmark\n",
    "$$\n",
    "$$$$\n",
    "$$\n",
    "13) \\quad -+-+ \\quad  \\quad \\quad -[+]-[+] \\quad \\checkmark\n",
    "$$\n",
    "$$$$\n",
    "$$\n",
    "14) \\quad -+-- \\quad  \\quad \\quad [\\;]-[+]-- \\quad \\checkmark\n",
    "$$\n",
    "$$$$\n",
    "$$\n",
    "15) \\quad -++- \\quad  \\quad \\quad -[+][+]- \\quad \\checkmark\n",
    "$$\n",
    "$$$$\n",
    "$$\n",
    "16) \\quad -+++ \\quad  \\quad \\quad -[+][++] \\quad \\checkmark\n",
    "$$\n",
    "$$$$\n",
    "$$**Step 2**$$\n",
    "$$\\text{I argue that an arbitrary set consisting of one additional point cannot be shattered } H, $$\n",
    "$$\\text{because if I have } +-+-+ , \\text{ this will breaks the rule, for example: } [+]-[+]-+$$\n",
    "$$\\text{There is one + that doesn't be classified}$$"
   ]
  },
  {
   "cell_type": "markdown",
   "metadata": {},
   "source": [
    "**Part B**: Consider learning to classify binary labeled data with two features, $x_1$ and $x_2$.  Let $H$ be the hypothesis class described by the ability to assign all points in a particular quadrant of the 2D plane to be positive or negative, with the restriction that at least one of the four quadrants must be labeled positive and at least one of the four quadrants must be labeled negative. Determine the VC Dimension of $H$. Again, justify your conclusion by demonstrating a shattering of a set $S$ of the appropriate size **AND** by arguing that an arbitrary set consisting of one additional point cannot be shattered by $H$.   "
   ]
  },
  {
   "cell_type": "markdown",
   "metadata": {},
   "source": [
    "$$\\text{Red point indicate +1, blue indicates -1}$$\n",
    "$$\\text{+ sign is positive, cross sign is negative}$$"
   ]
  },
  {
   "cell_type": "code",
   "execution_count": 41,
   "metadata": {},
   "outputs": [
    {
     "data": {
      "text/plain": [
       "[]"
      ]
     },
     "execution_count": 41,
     "metadata": {},
     "output_type": "execute_result"
    },
    {
     "data": {
      "image/png": "[encoded data removed]",
      "text/plain": [
       "<matplotlib.figure.Figure at 0x112f71128>"
      ]
     },
     "metadata": {},
     "output_type": "display_data"
    }
   ],
   "source": [
    "fig, ax = plt.subplots(nrows=1, figsize=(1.5,1.5))\n",
    "\n",
    "ax.plot([0,8], [4,4], lw=3, color='black') # TODO \n",
    "ax.plot([4,4], [0,8], lw=3, color='black') # TODO \n",
    "\n",
    "# Top right\n",
    "plt.plot([6.3], [6.3], marker='o', markersize=6, color=\"red\")\n",
    "# Top left\n",
    "plt.plot([1.5], [6.3], marker='o', markersize=6, color=\"red\")\n",
    "# Bottom left\n",
    "plt.plot([1.5], [1.8], marker='o', markersize=6, color=\"blue\")\n",
    "# Bottom right\n",
    "#plt.plot([1.5], [1.5], marker='o', markersize=6, color=\"blue\")\n",
    "\n",
    "# Quadrants\n",
    "# Top right: quadrant 1\n",
    "plt.plot([7.5], [7.5], marker='+', markersize=6, color=\"black\")\n",
    "\n",
    "# quadrant 2\n",
    "plt.plot([0.5], [7.5], marker='+', markersize=6, color=\"black\")\n",
    "# quadrant 3\n",
    "plt.plot([0.5], [0.5], marker='x', markersize=6, color=\"black\")\n",
    "# quadrant 4\n",
    "plt.plot([7.5], [0.5], marker='+', markersize=6, color=\"black\")\n",
    "\n",
    "ax.set_yticklabels([])\n",
    "ax.set_xticklabels([])"
   ]
  },
  {
   "cell_type": "code",
   "execution_count": 42,
   "metadata": {},
   "outputs": [
    {
     "data": {
      "text/plain": [
       "[]"
      ]
     },
     "execution_count": 42,
     "metadata": {},
     "output_type": "execute_result"
    },
    {
     "data": {
      "image/png": "[encoded data removed]",
      "text/plain": [
       "<matplotlib.figure.Figure at 0x1127b5128>"
      ]
     },
     "metadata": {},
     "output_type": "display_data"
    }
   ],
   "source": [
    "fig, ax = plt.subplots(nrows=1, figsize=(1.5,1.5))\n",
    "\n",
    "ax.plot([0,8], [4,4], lw=3, color='black') # TODO \n",
    "ax.plot([4,4], [0,8], lw=3, color='black') # TODO \n",
    "\n",
    "# Top right\n",
    "plt.plot([6.3], [6.3], marker='o', markersize=6, color=\"red\")\n",
    "# Top left\n",
    "plt.plot([1.5], [6.3], marker='o', markersize=6, color=\"blue\")\n",
    "# Bottom left\n",
    "plt.plot([1.5], [1.8], marker='o', markersize=6, color=\"red\")\n",
    "# Bottom right\n",
    "#plt.plot([1.5], [1.5], marker='o', markersize=6, color=\"blue\")\n",
    "\n",
    "# Quadrants\n",
    "# Top right: quadrant 1\n",
    "plt.plot([7.5], [7.5], marker='+', markersize=6, color=\"black\")\n",
    "\n",
    "# quadrant 2\n",
    "plt.plot([0.5], [7.5], marker='x', markersize=6, color=\"black\")\n",
    "# quadrant 3\n",
    "plt.plot([0.5], [0.5], marker='+', markersize=6, color=\"black\")\n",
    "# quadrant 4\n",
    "plt.plot([7.5], [0.5], marker='+', markersize=6, color=\"black\")\n",
    "\n",
    "ax.set_yticklabels([])\n",
    "ax.set_xticklabels([])"
   ]
  },
  {
   "cell_type": "code",
   "execution_count": 44,
   "metadata": {},
   "outputs": [
    {
     "data": {
      "text/plain": [
       "[]"
      ]
     },
     "execution_count": 44,
     "metadata": {},
     "output_type": "execute_result"
    },
    {
     "data": {
      "image/png": "[encoded data removed]",
      "text/plain": [
       "<matplotlib.figure.Figure at 0x112a32c50>"
      ]
     },
     "metadata": {},
     "output_type": "display_data"
    }
   ],
   "source": [
    "fig, ax = plt.subplots(nrows=1, figsize=(1.5,1.5))\n",
    "\n",
    "ax.plot([0,8], [4,4], lw=3, color='black') # TODO \n",
    "ax.plot([4,4], [0,8], lw=3, color='black') # TODO \n",
    "\n",
    "# Top right: quadrant 1\n",
    "plt.plot([6.3], [6.3], marker='o', markersize=6, color=\"blue\")\n",
    "# Top left: quadrant 2\n",
    "plt.plot([1.5], [6.3], marker='o', markersize=6, color=\"red\")\n",
    "# Bottom left: quadrant 3\n",
    "plt.plot([1.5], [1.8], marker='o', markersize=6, color=\"red\")\n",
    "# Bottom right: quadrant 4\n",
    "#plt.plot([1.5], [1.5], marker='o', markersize=6, color=\"blue\")\n",
    "\n",
    "# Quadrants\n",
    "# Top right: quadrant 1\n",
    "plt.plot([7.5], [7.5], marker='x', markersize=6, color=\"black\")\n",
    "\n",
    "# quadrant 2\n",
    "plt.plot([0.5], [7.5], marker='+', markersize=6, color=\"black\")\n",
    "# quadrant 3\n",
    "plt.plot([0.5], [0.5], marker='+', markersize=6, color=\"black\")\n",
    "# quadrant 4\n",
    "plt.plot([7.5], [0.5], marker='+', markersize=6, color=\"black\")\n",
    "\n",
    "ax.set_yticklabels([])\n",
    "ax.set_xticklabels([])"
   ]
  },
  {
   "cell_type": "code",
   "execution_count": 47,
   "metadata": {},
   "outputs": [
    {
     "data": {
      "text/plain": [
       "[]"
      ]
     },
     "execution_count": 47,
     "metadata": {},
     "output_type": "execute_result"
    },
    {
     "data": {
      "image/png": "[encoded data removed]",
      "text/plain": [
       "<matplotlib.figure.Figure at 0x112f1ea58>"
      ]
     },
     "metadata": {},
     "output_type": "display_data"
    }
   ],
   "source": [
    "fig, ax = plt.subplots(nrows=1, figsize=(1.5,1.5))\n",
    "\n",
    "ax.plot([0,8], [4,4], lw=3, color='black') # TODO \n",
    "ax.plot([4,4], [0,8], lw=3, color='black') # TODO \n",
    "\n",
    "# Top right: quadrant 1\n",
    "plt.plot([6.3], [6.3], marker='o', markersize=6, color=\"red\")\n",
    "# Top left: quadrant 2\n",
    "plt.plot([1.5], [6.3], marker='o', markersize=6, color=\"blue\")\n",
    "# Bottom left: quadrant 3\n",
    "plt.plot([1.5], [1.8], marker='o', markersize=6, color=\"blue\")\n",
    "# Bottom right: quadrant 4\n",
    "#plt.plot([1.5], [1.5], marker='o', markersize=6, color=\"blue\")\n",
    "\n",
    "# Quadrants\n",
    "# Top right: quadrant 1\n",
    "plt.plot([7.5], [7.5], marker='+', markersize=6, color=\"black\")\n",
    "\n",
    "# quadrant 2\n",
    "plt.plot([0.5], [7.5], marker='x', markersize=6, color=\"black\")\n",
    "# quadrant 3\n",
    "plt.plot([0.5], [0.5], marker='x', markersize=6, color=\"black\")\n",
    "# quadrant 4\n",
    "plt.plot([7.5], [0.5], marker='+', markersize=6, color=\"black\")\n",
    "\n",
    "ax.set_yticklabels([])\n",
    "ax.set_xticklabels([])"
   ]
  },
  {
   "cell_type": "code",
   "execution_count": 48,
   "metadata": {},
   "outputs": [
    {
     "data": {
      "text/plain": [
       "[]"
      ]
     },
     "execution_count": 48,
     "metadata": {},
     "output_type": "execute_result"
    },
    {
     "data": {
      "image/png": "[encoded data removed]",
      "text/plain": [
       "<matplotlib.figure.Figure at 0x112f64550>"
      ]
     },
     "metadata": {},
     "output_type": "display_data"
    }
   ],
   "source": [
    "fig, ax = plt.subplots(nrows=1, figsize=(1.5,1.5))\n",
    "\n",
    "ax.plot([0,8], [4,4], lw=3, color='black') # TODO \n",
    "ax.plot([4,4], [0,8], lw=3, color='black') # TODO \n",
    "\n",
    "# Top right: quadrant 1\n",
    "plt.plot([6.3], [6.3], marker='o', markersize=6, color=\"blue\")\n",
    "# Top left: quadrant 2\n",
    "plt.plot([1.5], [6.3], marker='o', markersize=6, color=\"blue\")\n",
    "# Bottom left: quadrant 3\n",
    "plt.plot([1.5], [1.8], marker='o', markersize=6, color=\"blue\")\n",
    "# Bottom right: quadrant 4\n",
    "#plt.plot([1.5], [1.5], marker='o', markersize=6, color=\"blue\")\n",
    "\n",
    "# Quadrants\n",
    "# Top right: quadrant 1\n",
    "plt.plot([7.5], [7.5], marker='x', markersize=6, color=\"black\")\n",
    "\n",
    "# quadrant 2\n",
    "plt.plot([0.5], [7.5], marker='x', markersize=6, color=\"black\")\n",
    "# quadrant 3\n",
    "plt.plot([0.5], [0.5], marker='x', markersize=6, color=\"black\")\n",
    "# quadrant 4\n",
    "plt.plot([7.5], [0.5], marker='+', markersize=6, color=\"black\")\n",
    "\n",
    "ax.set_yticklabels([])\n",
    "ax.set_xticklabels([])"
   ]
  },
  {
   "cell_type": "code",
   "execution_count": 49,
   "metadata": {},
   "outputs": [
    {
     "data": {
      "text/plain": [
       "[]"
      ]
     },
     "execution_count": 49,
     "metadata": {},
     "output_type": "execute_result"
    },
    {
     "data": {
      "image/png": "[encoded data removed]",
      "text/plain": [
       "<matplotlib.figure.Figure at 0x112ec88d0>"
      ]
     },
     "metadata": {},
     "output_type": "display_data"
    }
   ],
   "source": [
    "fig, ax = plt.subplots(nrows=1, figsize=(1.5,1.5))\n",
    "\n",
    "ax.plot([0,8], [4,4], lw=3, color='black') # TODO \n",
    "ax.plot([4,4], [0,8], lw=3, color='black') # TODO \n",
    "\n",
    "# Top right: quadrant 1\n",
    "plt.plot([6.3], [6.3], marker='o', markersize=6, color=\"blue\")\n",
    "# Top left: quadrant 2\n",
    "plt.plot([1.5], [6.3], marker='o', markersize=6, color=\"red\")\n",
    "# Bottom left: quadrant 3\n",
    "plt.plot([1.5], [1.8], marker='o', markersize=6, color=\"blue\")\n",
    "# Bottom right: quadrant 4\n",
    "#plt.plot([1.5], [1.5], marker='o', markersize=6, color=\"blue\")\n",
    "\n",
    "# Quadrants\n",
    "# Top right: quadrant 1\n",
    "plt.plot([7.5], [7.5], marker='x', markersize=6, color=\"black\")\n",
    "\n",
    "# quadrant 2\n",
    "plt.plot([0.5], [7.5], marker='+', markersize=6, color=\"black\")\n",
    "# quadrant 3\n",
    "plt.plot([0.5], [0.5], marker='x', markersize=6, color=\"black\")\n",
    "# quadrant 4\n",
    "plt.plot([7.5], [0.5], marker='+', markersize=6, color=\"black\")\n",
    "\n",
    "ax.set_yticklabels([])\n",
    "ax.set_xticklabels([])"
   ]
  },
  {
   "cell_type": "code",
   "execution_count": 51,
   "metadata": {},
   "outputs": [
    {
     "data": {
      "text/plain": [
       "[]"
      ]
     },
     "execution_count": 51,
     "metadata": {},
     "output_type": "execute_result"
    },
    {
     "data": {
      "image/png": "[encoded data removed]",
      "text/plain": [
       "<matplotlib.figure.Figure at 0x11319fef0>"
      ]
     },
     "metadata": {},
     "output_type": "display_data"
    }
   ],
   "source": [
    "fig, ax = plt.subplots(nrows=1, figsize=(1.5,1.5))\n",
    "\n",
    "ax.plot([0,8], [4,4], lw=3, color='black') # TODO \n",
    "ax.plot([4,4], [0,8], lw=3, color='black') # TODO \n",
    "\n",
    "# Top right: quadrant 1\n",
    "plt.plot([6.3], [6.3], marker='o', markersize=6, color=\"blue\")\n",
    "# Top left: quadrant 2\n",
    "plt.plot([1.5], [6.3], marker='o', markersize=6, color=\"blue\")\n",
    "# Bottom left: quadrant 3\n",
    "plt.plot([1.5], [1.8], marker='o', markersize=6, color=\"red\")\n",
    "# Bottom right: quadrant 4\n",
    "#plt.plot([1.5], [1.5], marker='o', markersize=6, color=\"blue\")\n",
    "\n",
    "# Quadrants\n",
    "# Top right: quadrant 1\n",
    "plt.plot([7.5], [7.5], marker='x', markersize=6, color=\"black\")\n",
    "\n",
    "# quadrant 2\n",
    "plt.plot([0.5], [7.5], marker='x', markersize=6, color=\"black\")\n",
    "# quadrant 3\n",
    "plt.plot([0.5], [0.5], marker='+', markersize=6, color=\"black\")\n",
    "# quadrant 4\n",
    "plt.plot([7.5], [0.5], marker='+', markersize=6, color=\"black\")\n",
    "\n",
    "ax.set_yticklabels([])\n",
    "ax.set_xticklabels([])"
   ]
  },
  {
   "cell_type": "code",
   "execution_count": 53,
   "metadata": {},
   "outputs": [
    {
     "data": {
      "text/plain": [
       "[]"
      ]
     },
     "execution_count": 53,
     "metadata": {},
     "output_type": "execute_result"
    },
    {
     "data": {
      "image/png": "[encoded data removed]",
      "text/plain": [
       "<matplotlib.figure.Figure at 0x112f061d0>"
      ]
     },
     "metadata": {},
     "output_type": "display_data"
    }
   ],
   "source": [
    "fig, ax = plt.subplots(nrows=1, figsize=(1.5,1.5))\n",
    "\n",
    "ax.plot([0,8], [4,4], lw=3, color='black') # TODO \n",
    "ax.plot([4,4], [0,8], lw=3, color='black') # TODO \n",
    "\n",
    "# Top right: quadrant 1\n",
    "plt.plot([6.3], [6.3], marker='o', markersize=6, color=\"red\")\n",
    "# Top left: quadrant 2\n",
    "plt.plot([1.5], [6.3], marker='o', markersize=6, color=\"red\")\n",
    "# Bottom left: quadrant 3\n",
    "plt.plot([1.5], [1.8], marker='o', markersize=6, color=\"red\")\n",
    "# Bottom right: quadrant 4\n",
    "#plt.plot([1.5], [1.5], marker='o', markersize=6, color=\"blue\")\n",
    "\n",
    "# Quadrants\n",
    "# Top right: quadrant 1\n",
    "plt.plot([7.5], [7.5], marker='+', markersize=6, color=\"black\")\n",
    "\n",
    "# quadrant 2\n",
    "plt.plot([0.5], [7.5], marker='+', markersize=6, color=\"black\")\n",
    "# quadrant 3\n",
    "plt.plot([0.5], [0.5], marker='+', markersize=6, color=\"black\")\n",
    "# quadrant 4\n",
    "plt.plot([7.5], [0.5], marker='x', markersize=6, color=\"black\")\n",
    "\n",
    "ax.set_yticklabels([])\n",
    "ax.set_xticklabels([])"
   ]
  },
  {
   "cell_type": "markdown",
   "metadata": {},
   "source": [
    "$$\\text{All 3 points correctly classified, what about 4 points?}$$"
   ]
  },
  {
   "cell_type": "code",
   "execution_count": 59,
   "metadata": {},
   "outputs": [
    {
     "data": {
      "text/plain": [
       "[]"
      ]
     },
     "execution_count": 59,
     "metadata": {},
     "output_type": "execute_result"
    },
    {
     "data": {
      "image/png": "[encoded data removed]",
      "text/plain": [
       "<matplotlib.figure.Figure at 0x1130d7668>"
      ]
     },
     "metadata": {},
     "output_type": "display_data"
    }
   ],
   "source": [
    "fig, ax = plt.subplots(nrows=1, figsize=(1.5,1.5))\n",
    "\n",
    "ax.plot([0,8], [4,4], lw=3, color='black') # TODO \n",
    "ax.plot([4,4], [0,8], lw=3, color='black') # TODO \n",
    "\n",
    "# Top right: quadrant 1\n",
    "plt.plot([6.3], [6.3], marker='o', markersize=6, color=\"red\")\n",
    "# Top left: quadrant 2\n",
    "plt.plot([1.5], [6.3], marker='o', markersize=6, color=\"red\")\n",
    "# Bottom left: quadrant 3\n",
    "plt.plot([1.5], [1.8], marker='o', markersize=6, color=\"red\")\n",
    "# Bottom right: quadrant 4\n",
    "plt.plot([6.3], [1.5], marker='o', markersize=6, color=\"red\")\n",
    "\n",
    "# Quadrants\n",
    "# Top right: quadrant 1\n",
    "plt.plot([7.5], [7.5], marker='+', markersize=6, color=\"black\")\n",
    "\n",
    "# quadrant 2\n",
    "plt.plot([0.5], [7.5], marker='+', markersize=6, color=\"black\")\n",
    "# quadrant 3\n",
    "plt.plot([0.5], [0.5], marker='+', markersize=6, color=\"black\")\n",
    "# quadrant 4\n",
    "plt.plot([7.5], [0.5], marker='+', markersize=6, color=\"black\")\n",
    "\n",
    "ax.set_yticklabels([])\n",
    "ax.set_xticklabels([])"
   ]
  },
  {
   "cell_type": "markdown",
   "metadata": {},
   "source": [
    "$$\\text{In this example, we can't classify the negative sign in any quadrant.} $$\n",
    "$$\\text{There is no negative quadrant in this graph so we fail to correctly classify. Thus, VC dimenison is 3}$$"
   ]
  }
 ],
 "metadata": {
  "kernelspec": {
   "display_name": "Python 3",
   "language": "python",
   "name": "python3"
  },
  "language_info": {
   "codemirror_mode": {
    "name": "ipython",
    "version": 3
   },
   "file_extension": ".py",
   "mimetype": "text/x-python",
   "name": "python",
   "nbconvert_exporter": "python",
   "pygments_lexer": "ipython3",
   "version": "3.6.4"
  }
 },
 "nbformat": 4,
 "nbformat_minor": 2
}
