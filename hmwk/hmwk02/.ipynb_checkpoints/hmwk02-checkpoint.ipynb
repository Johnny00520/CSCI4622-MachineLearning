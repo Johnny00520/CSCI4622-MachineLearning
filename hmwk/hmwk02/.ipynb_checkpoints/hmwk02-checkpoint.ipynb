{
 "cells": [
  {
   "cell_type": "markdown",
   "metadata": {},
   "source": [
    "# Homework 2: K-Nearest Neighbors and The Perceptron Algorithm \n",
    "***\n",
    "\n",
    "**Name**: \n",
    "\n",
    "***\n",
    "\n",
    "This assignment is due on Moodle by **5pm on Friday February 16th**. Your solutions to theoretical questions should be done in Markdown/MathJax directly below the associated question.  Your solutions to computational questions should include any specified Python code and results as well as written commentary on your conclusions.  Remember that you are encouraged to discuss the problems with your instructors and classmates, but **you must write all code and solutions on your own**.  For a refresher on the course **Collaboration Policy** click [here](https://github.com/chrisketelsen/CSCI-4622-Machine-Learning/blob/master/resources/syllabus.md#collaboration-policy).\n",
    "\n",
    "**NOTES**: \n",
    "\n",
    "- Do **NOT** load or use any Python packages that are not available in Anaconda 3.6. \n",
    "- Some problems with code may be autograded.  If we provide a function API **do not** change it.  If we do not provide a function API then you're free to structure your code however you like. \n",
    "- Submit only this Jupyter notebook to Moodle.  Do not compress it using tar, rar, zip, etc. "
   ]
  },
  {
   "cell_type": "code",
   "execution_count": 1,
   "metadata": {
    "collapsed": true,
    "scrolled": true
   },
   "outputs": [],
   "source": [
    "import pickle, gzip\n",
    "import numpy as np\n",
    "import matplotlib.pylab as plt\n",
    "%matplotlib inline"
   ]
  },
  {
   "cell_type": "markdown",
   "metadata": {},
   "source": [
    "### [15 points] Problem 1 - Exploring Unweighted and Distance-Weighted KNN\n",
    "***\n",
    "\n",
    "In class we talked in detail about the standard Unweighted K-Nearest Neighbors classifier and touched briefly on the so called Distance-Weighted KNN classifier.  In this problem you'll get some more practice working with each. \n",
    "\n",
    "Consider the data set shown below where red dots correspond to training examples with label $y=1$ and blue dots correspond to training examples with label $y = -1$. The green point ${\\bf x}_G$ and orange point ${\\bf x}_O$ are query points that we would like to classify.  \n",
    "\n",
    "![KNN Data](figs/prob1.png \"Prob 1 Data\")"
   ]
  },
  {
   "cell_type": "markdown",
   "metadata": {},
   "source": [
    "**Part A**: How would a $6$-NN classifier classify the point ${\\bf x}_G$? Fully justify your response. \n",
    "\n",
    "\n",
    "\n"
   ]
  },
  {
   "cell_type": "markdown",
   "metadata": {
    "collapsed": true
   },
   "source": [
    "$$\\text{Since red is with label } y = 1, \\text{and blue is with label } y = -1$$\n",
    "$$\\text{In this case, the 6NN classifier classify the point } X_G \\text{ as negative 1 } (y=-1) $$\n",
    "$$\\text{ because 6NN for blue is $\\hat{p}$(Y = $\\text{blue }$ | X) = $\\frac{4}{6}$ }$$\n",
    "$$\\text{ and 6NN for red is $\\hat{p}$(Y = $\\text{red }$ | X) = $\\frac{2}{6}$}$$\n",
    "$$\\text{Since } \\frac{4}{6} \\gt \\frac{2}{6} \\text{, so it is negative} $$"
   ]
  },
  {
   "cell_type": "markdown",
   "metadata": {},
   "source": [
    "**Part B**: Use the probabilistic interpretation of KNN to estimate the probabilities $p(y_G = 1 \\mid {\\bf x}_G)$ and $p(y_G = -1 \\mid {\\bf x}_G)$. \n",
    "\n",
    "\n",
    "\n"
   ]
  },
  {
   "cell_type": "markdown",
   "metadata": {
    "collapsed": true
   },
   "source": [
    "$$ p(y_G = 1 \\mid {\\bf x}_G) = \\frac{2}{6} $$\n",
    "$$ p(y_G = -1 \\mid {\\bf x}_G) = \\frac{4}{6} $$"
   ]
  },
  {
   "cell_type": "markdown",
   "metadata": {},
   "source": [
    "**Part C**: The so-called Distance-Weighted KNN classifier assigns weights to the the nearest-neighbor training examples proportional to the inverse-distance from the training example to the query point.  Classification is performed by summing the weights associated with each class and predicting the class with the highest weighted-majority vote.  Mathematically we might describe the weighted-vote for a class $c$ as \n",
    "\n",
    "$$\n",
    "\\textrm{Weighted-Vote}(c) = \\displaystyle\\sum_{i \\in {\\cal N}_K} I(y_i = c) \\times \\dfrac{1}{\\|{\\bf x}_i - {\\bf x}\\|}\n",
    "$$\n",
    "\n",
    "See Slides 40-43 of the [KNN Lecture](https://www.cs.colorado.edu/~ketelsen/files/courses/csci4622/slides/lesson06.pdf).  For a worked example. \n",
    "\n",
    "Use the Distance-Weighted 6-NN classifier to classify the point ${\\bf x}_G$ above. Show your work. \n",
    "\n"
   ]
  },
  {
   "cell_type": "markdown",
   "metadata": {
    "collapsed": true
   },
   "source": [
    "$$\n",
    "\\textrm{Weighted-Vote}(c) = \\displaystyle\\sum_{i \\in {\\cal N}_K} I(y_i = c) \\times \\dfrac{1}{\\|{\\bf x}_i - {\\bf x}\\|}\n",
    "$$\n",
    "$$\\text{6NN: Red distance: 0.5 , 1}$$\n",
    "$$\\text{6NN: Blue distance: } \\sqrt{2} , \\sqrt{2}, \\sqrt{2}, \\sqrt{2}$$\n",
    "$$\\text{Red weight majority vote: } \\frac{1}{0.5} + \\frac{1}{1} = 3$$\n",
    "$$\\text{Blue weight majority vote: } \\frac{1}{\\sqrt{2}} + \\frac{1}{\\sqrt{2}} + \\frac{1}{\\sqrt{2}} + \\frac{1}{\\sqrt{2}} = 2\\sqrt{2}$$\n",
    "$$\\text{Red weight majority vote > Blue weight majority vote}= 3>2\\sqrt{2}$$\n",
    "$$\\text{Prediction of 6NN is: red}$$\n"
   ]
  },
  {
   "cell_type": "markdown",
   "metadata": {},
   "source": [
    "**Part D**: Where could you place an additional blue training example such that the Distance-Weighted 5-NN classifier would encounter a tie between red and blue when classifying the point ${\\bf x}_O$?  Justify your response. \n",
    "\n",
    "\n",
    "\n"
   ]
  },
  {
   "cell_type": "markdown",
   "metadata": {
    "collapsed": true
   },
   "source": [
    "$$R_1 = (1,3), R_2 = (1,1), R_3 = (3,1), R_4 = (4,3), B_1 = (3,3), {\\bf x}_O = (2,2) $$\n",
    "$$\\text{It is } \\frac{1}{\\text{Distance formula}} \\text{from the target } {\\bf x}_O$$\n",
    "$$\\sum_{i \\in {\\cal N}_K}\\frac{1}{R_1}, \\frac{1}{R_2}, \\frac{1}{R_3}, \\frac{1}{R_4}$$\n",
    "$$\\text{Red Weighted-Vote = }\\frac{1}{\\sqrt{2}} + \\frac{1}{\\sqrt{2}} + \\frac{1}{\\sqrt{2}} + \\frac{1}{\\sqrt{5}}$$\n",
    "$$\\text{Blue Weighted-Vote = }\\frac{1}{\\sqrt{2}}, \\text{ and an additional point, let's called w, so we get} \\text{Blue Weighted-Vote = }\\frac{1}{\\sqrt{2}} + \\frac{1}{w}$$\n",
    "$$\\text{Since we want to make a tie, we subtract blue from red and set equal 0 because it is a tie}$$\n",
    "$$(\\frac{1}{\\sqrt{2}} + \\frac{1}{\\sqrt{2}} + \\frac{1}{\\sqrt{2}} ) - (\\frac{1}{\\sqrt{2}} + \\frac{1}{w}) = 0, \\text{ and solve for w}$$\n",
    "$$w = 0.7071$$\n",
    "$$\\text{so if you put an additional blue point at (2.7071, 2) or (1.2929, 2), this would get you a tie}$$"
   ]
  },
  {
   "cell_type": "markdown",
   "metadata": {},
   "source": [
    "**Part E**: State a general formula for the probability $p(Y=c \\mid {\\bf x})$ using the Distance-Weighted KNN classifier.  Use your formula to estimate the probabilities $p(y_G = 1 \\mid {\\bf x}_G)$ and $p(y_G = -1 \\mid {\\bf x}_G)$ for Distance-Weighted 6-NN.  \n",
    "\n",
    "\n",
    "\n"
   ]
  },
  {
   "cell_type": "markdown",
   "metadata": {
    "collapsed": true
   },
   "source": [
    "\n",
    "$$\n",
    "p(y_G = 1 \\mid {\\bf x}_G) \\text{ and } p(y_G = -1 \\mid {\\bf x}_G) = \\displaystyle\\frac{\\sum_{i \\in {\\cal N}_K} I(y_i = c) \\times \\dfrac{1}{\\|{\\bf x}_i - {\\bf x}\\|}}{\\sum_{i \\in {\\cal N}_K} \\dfrac{1}{\\|{\\bf x}_i - {\\bf x}\\|}}\n",
    "$$\n",
    "$$\n",
    "p(y_G = 1 \\mid {\\bf x}_G) = \\frac{3}{3 + 2\\sqrt{2}}\n",
    "$$\n",
    "$$\n",
    "p(y_G = -1 \\mid {\\bf x}_G) = \\frac{2\\sqrt{2}}{3 + 2\\sqrt{2}}\n",
    "$$"
   ]
  },
  {
   "cell_type": "markdown",
   "metadata": {},
   "source": [
    "### [35 points] Problem 2- KNN for Handwritten Digit Recognition \n",
    "***\n",
    "\n",
    "In this problem you'll implement a K-Nearest Neighbor framework to take an image of a handwritten digit and predict which digit it corresponds to.  \n",
    "\n",
    "![Samples of Handwritten Digits](figs/mnist.png \"MNIST Digits\")\n",
    "\n",
    "To keep run times down we'll only consider the subset of the MNIST data set consisting of the digits $3, 7, 8$ and $9$. \n",
    "\n",
    "**Part A**: Executing the following cells will load training and validation data and plot an example handwritten digit.  Explore the training and validation sets and answer the following questions: \n",
    "\n",
    "- How many pixels are in each image in the data set?  \n",
    "- How many examples are there from each class in the training set? \n",
    "- How many examples are there from each class in the validation set? "
   ]
  },
  {
   "cell_type": "code",
   "execution_count": 2,
   "metadata": {
    "collapsed": true
   },
   "outputs": [],
   "source": [
    "X_train, y_train, X_valid, y_valid = pickle.load(gzip.open(\"data/mnist21x21_3789.pklz\", \"rb\"))\n",
    "# len(X_train[0])"
   ]
  },
  {
   "cell_type": "code",
   "execution_count": 3,
   "metadata": {
    "collapsed": true
   },
   "outputs": [],
   "source": [
    "def view_digit(x, label=None):\n",
    "#     print(\"x is: \", x)\n",
    "\n",
    "    fig = plt.figure(figsize=(3,3))\n",
    "    plt.imshow(x.reshape(21,21), cmap='gray');\n",
    "    \n",
    "    plt.xticks([]); plt.yticks([]);\n",
    "    if label: plt.xlabel(\"true: {}\".format(label), fontsize=16)"
   ]
  },
  {
   "cell_type": "code",
   "execution_count": 4,
   "metadata": {
    "scrolled": true
   },
   "outputs": [
    {
     "name": "stdout",
     "output_type": "stream",
     "text": [
      "Pixels is:  441\n",
      "y_train:  [7 9 3 ... 7 3 8]\n",
      "X_train:  [[0. 0. 0. ... 0. 0. 0.]\n",
      " [0. 0. 0. ... 0. 0. 0.]\n",
      " [0. 0. 0. ... 0. 0. 0.]\n",
      " ...\n",
      " [0. 0. 0. ... 0. 0. 0.]\n",
      " [0. 0. 0. ... 0. 0. 0.]\n",
      " [0. 0. 0. ... 0. 0. 0.]]\n",
      "The example amount of X_train is:  4000\n",
      "The example amount of X_valid is:  1000\n"
     ]
    },
    {
     "data": {
      "text/plain": [
       "250"
      ]
     },
     "execution_count": 4,
     "metadata": {},
     "output_type": "execute_result"
    },
    {
     "data": {
      "image/png": "[encoded data removed]",
      "text/plain": [
       "<matplotlib.figure.Figure at 0x107f5c7f0>"
      ]
     },
     "metadata": {},
     "output_type": "display_data"
    }
   ],
   "source": [
    "training_index = 0\n",
    "view_digit(X_train[training_index], y_train[training_index])\n",
    "\n",
    "print(\"Pixels is: \", len(X_train[0]))\n",
    "print(\"y_train: \", y_train)\n",
    "print(\"X_train: \", X_train)\n",
    "print(\"The example amount of X_train is: \", len(y_train)) \n",
    "print(\"The example amount of X_valid is: \", len(y_valid)) \n",
    "\n",
    "#Counts the number of non-zero values in the array a.\n",
    "# y_valid can be 3, 7, 8, 9\n",
    "np.count_nonzero(y_valid == 3)\n"
   ]
  },
  {
   "cell_type": "markdown",
   "metadata": {
    "collapsed": true
   },
   "source": [
    "There are 441 pixels in each image. There are 4000 examples in the training set, and 1000 examples in the validation set.\n",
    "There are 1000 of training set in each of 3's, 7's, 8's, 9's and there are 250 of validation set in each of 3's, 7's, 8's, 9's"
   ]
  },
  {
   "cell_type": "markdown",
   "metadata": {},
   "source": [
    "The next part of this problem will involve building a `KNN` class for doing K-Nearest-Neighbors classification. Scroll down to **Part B** to see what you need to do. "
   ]
  },
  {
   "cell_type": "code",
   "execution_count": 5,
   "metadata": {
    "collapsed": true
   },
   "outputs": [],
   "source": [
    "class KNN:\n",
    "    \"\"\"\n",
    "    Class to store data for regression problems \n",
    "    \"\"\"\n",
    "    def __init__(self, X_train, y_train, K=5, distance_weighted=False):\n",
    "        \"\"\"\n",
    "        Creates a kNN instance\n",
    "\n",
    "        :param X_train: Training data input in 2D ndarray \n",
    "        :param y_train: Training data output in 1D ndarray \n",
    "        :param K: The number of nearest points to consider in classification\n",
    "        :param distance_weighted: Bool indicating whether to use distance weighting\n",
    "        \"\"\"\n",
    "        \n",
    "        # Import and build the BallTree on training features \n",
    "        from sklearn.neighbors import BallTree\n",
    "        self.balltree = BallTree(X_train)\n",
    "        \n",
    "        # Cache training labels and parameter K \n",
    "        self.y_train = y_train\n",
    "        self.K = K \n",
    "        \n",
    "        # Boolean flag indicating whether to do distance weighting \n",
    "        self.distance_weighted = distance_weighted\n",
    "        \n",
    "    def majority(self, neighbor_indices, neighbor_distances=None):\n",
    "        \"\"\"\n",
    "        Given indices of nearest neighbors in training set, return the majority label. \n",
    "        Break ties by considering 1 fewer neighbor until a clear winner is found. \n",
    "\n",
    "        :param neighbor_indices: The indices of the K nearest neighbors in self.X_train \n",
    "        :param neighbor_distances: Corresponding distances from query point to K nearest neighbors. \n",
    "        \"\"\"\n",
    "        if self.distance_weighted == False:\n",
    "            import numpy as np\n",
    "            import collections\n",
    "#             print(\"nei_indices: \" , neighbor_indices)\n",
    "\n",
    "            # Map indices to y_train: [1,2,3] to y_train[+1, -1, +!] => [1: +1, 2: -1, 3: +1]\n",
    "            Y_trainCounter = collections.Counter(map(lambda x: self.y_train[x], neighbor_indices[0]))\n",
    "#             print(\"y_train:\", Y_trainCounter)\n",
    "            \n",
    "            # find out the most common amount\n",
    "            MostCommonCounter = Y_trainCounter.most_common()\n",
    "#             print(\"Most common: \", MostCommonCounter)\n",
    "#             print(\"Most common_01: \", MostCommonCounter[0][1])\n",
    "#             print(\"Most common_11: \", MostCommonCounter[1][1])\n",
    "\n",
    "            # if they are not tie for blue and red\n",
    "            if len(MostCommonCounter) == 1 or MostCommonCounter[0][1] != MostCommonCounter[1][1]: \n",
    "                # return the first element of list [0][0] because it's the most common\n",
    "                return MostCommonCounter[0][0]\n",
    "            else:\n",
    "                # get rid of the last element\n",
    "                return self.majority([neighbor_indices[0][:-1]])\n",
    "            \n",
    "        elif self.distance_weighted == True:\n",
    "            \n",
    "#             print(\"y_train: \", self.y_train)\n",
    "\n",
    "#             print(\"Distance: \", neighbor_distances)\n",
    "#             print(\"Distance_01: \", neighbor_distances[0][1])\n",
    "            \n",
    "            # Make a dictionary: {} = dictionary, [] = list, () = tuple\n",
    "            LabelCounter = {}\n",
    "#             print(neighbor_indices)\n",
    "            \n",
    "            # loop the length of neighbor_indices and append to the LabelCounter dict\n",
    "            for i in range(len(neighbor_indices[0])):\n",
    "                # print(i)\n",
    "                \n",
    "                # Make LabelCounter dict labels = 0, i.e = [-1: 0, 1: 0] depending on the indices of y_train\n",
    "                LabelCounter[self.y_train[neighbor_indices[0][i]]] = 0\n",
    "                \n",
    "#             print(neighbor_indices[0])\n",
    "#             print(\"LabelCounter: \", LabelCounter)\n",
    "            \n",
    "#             print(\"-------------------------------------------------------\")\n",
    "            \n",
    "            for j in range(len(neighbor_indices[0])):\n",
    "                LabelCounter[self.y_train[neighbor_indices[0][j]]] += (1/(neighbor_distances[0][j] + 0.001))\n",
    "#                 print(\"LabelCounterInLoop: \", LabelCounter)\n",
    "#             print(\"New LabelCounter: \", LabelCounter)\n",
    "            WinningClassLabel = max(LabelCounter, key = lambda key: LabelCounter[key])\n",
    "#             print(\"WinningClassLabel: \", WinningClassLabel)\n",
    "            return WinningClassLabel\n",
    "        \n",
    "    def classify(self, x):\n",
    "        \"\"\"\n",
    "        Given a query point, return the predicted label \n",
    "        \n",
    "        :param x: a query point stored as an ndarray  \n",
    "        \"\"\"\n",
    "#         x.reshape() # This should be a proper way to do\n",
    "#         distance, indices = self.balltree.query([x], self.K)\n",
    "        distance, indices = self.balltree.query(x.reshape(1, -1), self.K)\n",
    "        \n",
    "        return self.majority(indices, neighbor_distances = distance)\n",
    "#         return self.majority([0,1,2])\n",
    "        \n",
    "    def predict(self, X):\n",
    "        \"\"\"\n",
    "        Given an ndarray of query points, return yhat, an ndarray of predictions \n",
    "\n",
    "        :param X: an (m x p) dimension ndarray of points to predict labels for \n",
    "        \"\"\"\n",
    "#         len(self.balltree.query(X, K))\n",
    "\n",
    "#         test = map(self.classify, X)\n",
    "#         print(\"test: \", test)\n",
    "        return list(map(self.classify, X))\n",
    "#         return np.zeros(X.shape[0], dtype=int)"
   ]
  },
  {
   "cell_type": "markdown",
   "metadata": {},
   "source": [
    "**Part B**: Modify the class above to implement an Unweighted KNN classifier.  There are three methods that you need to complete: \n",
    "\n",
    "- `predict`: Given an $m \\times p$ matrix of validation data with $m$ examples each with $p$ features, return a length-$m$ vector of predicted labels by calling the `classify` function on each example. \n",
    "- `classify`: Given a single query example with $p$ features, return its predicted class label as an integer using KNN by calling the `majority` function. \n",
    "- `majority`: Given an array of indices into the training set corresponding to the $K$ training examples that are nearest to the query point, return the majority label as an integer.  If there is a tie for the majority label using $K$ nearest neighbors, reduce $K$ by 1 and try again.  Continue reducing $K$ until there is a winning label. \n",
    "\n",
    "**Notes**: \n",
    "- Don't even think about implementing nearest-neighbor search or any distance metrics yourself.  Instead, go read the documentation for Scikit-Learn's [BallTree](http://scikit-learn.org/stable/modules/generated/sklearn.neighbors.BallTree.html) object.  You will find that its implemented [query](http://scikit-learn.org/stable/modules/generated/sklearn.neighbors.BallTree.html#sklearn.neighbors.BallTree.query) method can do most of the heavy lifting for you. \n",
    "- Do not use Scikit-Learn's KNeighborsClassifier in this problem.  We're implementing this ourselves. \n",
    "- You don't need to worry about the `distance_weighted` flag until **Part C**, but we recommend reading ahead a bit. It might be good to think about your implementation of **Part C** before implementing **Part B**. \n",
    "- When you think you're done, execute the following cell to run 4 unit tests based on the example starting on Slide 24 of the [KNN Lecture](https://www.cs.colorado.edu/~ketelsen/files/courses/csci4622/slides/lesson06.pdf).  "
   ]
  },
  {
   "cell_type": "code",
   "execution_count": 6,
   "metadata": {},
   "outputs": [
    {
     "name": "stderr",
     "output_type": "stream",
     "text": [
      "test1NNclassify (__main__.TestUnweightedKNN) ... ok\n",
      "test2NNclassify (__main__.TestUnweightedKNN) ... ok\n",
      "test3NNclassify (__main__.TestUnweightedKNN) ... ok\n",
      "test3NNpredict (__main__.TestUnweightedKNN) ... ok\n",
      "\n",
      "----------------------------------------------------------------------\n",
      "Ran 4 tests in 0.690s\n",
      "\n",
      "OK\n"
     ]
    },
    {
     "data": {
      "text/plain": [
       "<matplotlib.figure.Figure at 0x10bec5e48>"
      ]
     },
     "metadata": {},
     "output_type": "display_data"
    }
   ],
   "source": [
    "%run -i tests/tests.py \"prob 2A\""
   ]
  },
  {
   "cell_type": "markdown",
   "metadata": {},
   "source": [
    "**Part C**: Modify the `KNN` class to perform the distance-weighted KNN classification described in **Problem 1** when the `distance_weighted` flag is set to `True`. A word of caution: it's certainly possible that a query point could be distance $0$ away from some training example.  If this happens your implementation should handle it gracefully and return the appropriate class label.   \n",
    "\n",
    "When you think you're done, execute the following cell to run three final unit tests corresponding to the example on Slide 43 of the [KNN Lecture](https://www.cs.colorado.edu/~ketelsen/files/courses/csci4622/slides/lesson06.pdf). Make sure that the changes you make in **Part C** do not affect the unit tests from **Part B**.   \n"
   ]
  },
  {
   "cell_type": "code",
   "execution_count": 7,
   "metadata": {},
   "outputs": [
    {
     "name": "stderr",
     "output_type": "stream",
     "text": [
      "test5NNclassify (__main__.TestWeightedKNN) ... ok\n",
      "test3NNclassify (__main__.TestWeightedKNN) ... ok\n",
      "test5NNpredict (__main__.TestWeightedKNN) ... ok\n",
      "\n",
      "----------------------------------------------------------------------\n",
      "Ran 3 tests in 0.007s\n",
      "\n",
      "OK\n"
     ]
    }
   ],
   "source": [
    "%run -i tests/tests.py \"prob 2B\""
   ]
  },
  {
   "cell_type": "markdown",
   "metadata": {},
   "source": [
    "**Part D**: Use your `KNN` class to perform Unweighted KNN on the validation data with $K=3$ and do the following: \n",
    "\n",
    "- Create a **confusion matrix** (feel free to use the Scikit-Learn `confusion_matrix` function described in the [Hands-On KNN](https://github.com/chrisketelsen/CSCI-4622-Machine-Learning/blob/master/in-class-notebooks/Hands_On_KNN_Perceptron.ipynb) from class).  \n",
    "- Based on your confusion matrix, which digits seem to get confused with other digits the most? \n",
    "- Find one misclassified validation example and plot it with the `view_digit` function along with plots of its three nearest neighbors in the training set. \n",
    "\n"
   ]
  },
  {
   "cell_type": "code",
   "execution_count": 6,
   "metadata": {},
   "outputs": [
    {
     "name": "stdout",
     "output_type": "stream",
     "text": [
      "[[236   2  10   2]\n",
      " [  1 244   1   4]\n",
      " [  9   0 233   8]\n",
      " [  3   3   0 244]]\n"
     ]
    }
   ],
   "source": [
    "from sklearn.metrics import confusion_matrix\n",
    "\n",
    "# create an instance\n",
    "predictor = KNN(X_train, y_train, 3, False)\n",
    "yHatValid = predictor.predict(X_valid)\n",
    "# print(\"yHat: \", yHatValid)\n",
    "ConfusionMatrix = confusion_matrix(y_valid, yHatValid)\n",
    "print(ConfusionMatrix)\n",
    "# print(\"yHat: \", yHatValid)\n",
    "# print(\"yVal:\", y_valid)"
   ]
  },
  {
   "cell_type": "markdown",
   "metadata": {},
   "source": [
    "$$\n",
    "    \\text{Based on my confusion matrix, row 0 and column 2 is the most confused, meaning the program think 3 as 8 or think 8 as 3}\n",
    "$$"
   ]
  },
  {
   "cell_type": "code",
   "execution_count": 7,
   "metadata": {},
   "outputs": [
    {
     "name": "stdout",
     "output_type": "stream",
     "text": [
      "[[3123 1777 3592]]\n"
     ]
    },
    {
     "data": {
      "image/png": "[encoded data removed]",
      "text/plain": [
       "<matplotlib.figure.Figure at 0x107f75160>"
      ]
     },
     "metadata": {},
     "output_type": "display_data"
    },
    {
     "data": {
      "image/png": "[encoded data removed]",
      "text/plain": [
       "<matplotlib.figure.Figure at 0x1a0c837518>"
      ]
     },
     "metadata": {},
     "output_type": "display_data"
    },
    {
     "data": {
      "image/png": "[encoded data removed]",
      "text/plain": [
       "<matplotlib.figure.Figure at 0x1a0c88c080>"
      ]
     },
     "metadata": {},
     "output_type": "display_data"
    },
    {
     "data": {
      "image/png": "[encoded data removed]",
      "text/plain": [
       "<matplotlib.figure.Figure at 0x1a0c8c34a8>"
      ]
     },
     "metadata": {},
     "output_type": "display_data"
    }
   ],
   "source": [
    "# view_digit(X_valid[0], yHatValid[0])\n",
    "from sklearn.neighbors import BallTree\n",
    "\n",
    "# query is taking the coordinate system(X_valid) instead of point(yHatValid)\n",
    "distance, indices = predictor.balltree.query(X_valid[6].reshape(1, -1) , 3)\n",
    "print(indices)\n",
    "\n",
    "# view_digit(X_valid[982])\n",
    "# print(indices.reshape(1, -1))\n",
    "\n",
    "# print(indices[0][0])\n",
    "# # indices[0][1]\n",
    "\n",
    "# print(view_digit(X_valid[6]))\n",
    "# for i in range(3):\n",
    "#     print(view_digit(X_train[indices[0][i]]))\n",
    "    \n",
    "# view_digit(X_train[2202\n",
    "view_digit(X_train[3123])\n",
    "view_digit(X_train[1777])\n",
    "view_digit(X_train[3592])\n",
    "view_digit(X_valid[6])"
   ]
  },
  {
   "cell_type": "markdown",
   "metadata": {},
   "source": [
    "**Part E**: Create a plot of the accuracy of both Unweighted and Distance-Weighted KNN on the validation set on the same set of axes for $K=1, 2, \\ldots, 20$ (feel free to go out to $K=30$ if your implementation is efficient enough to allow it).  Answer the following questions: \n",
    "\n",
    "- For general $K$, does Unweighted or Weighted KNN appear to perform better? \n",
    "- Which value of $K$ attains the best accuracy on the validation set? \n",
    "\n"
   ]
  },
  {
   "cell_type": "code",
   "execution_count": 9,
   "metadata": {},
   "outputs": [
    {
     "name": "stdout",
     "output_type": "stream",
     "text": [
      "Un:  [0.956]\n",
      "W:  [0.956]\n",
      "Un:  [0.956, 0.956]\n",
      "W:  [0.956, 0.956]\n",
      "Un:  [0.956, 0.956, 0.957]\n",
      "W:  [0.956, 0.956, 0.957]\n",
      "Un:  [0.956, 0.956, 0.957, 0.959]\n",
      "W:  [0.956, 0.956, 0.957, 0.959]\n",
      "Un:  [0.956, 0.956, 0.957, 0.959, 0.961]\n",
      "W:  [0.956, 0.956, 0.957, 0.959, 0.961]\n",
      "Un:  [0.956, 0.956, 0.957, 0.959, 0.961, 0.959]\n",
      "W:  [0.956, 0.956, 0.957, 0.959, 0.961, 0.957]\n",
      "Un:  [0.956, 0.956, 0.957, 0.959, 0.961, 0.959, 0.959]\n",
      "W:  [0.956, 0.956, 0.957, 0.959, 0.961, 0.957, 0.96]\n",
      "Un:  [0.956, 0.956, 0.957, 0.959, 0.961, 0.959, 0.959, 0.958]\n",
      "W:  [0.956, 0.956, 0.957, 0.959, 0.961, 0.957, 0.96, 0.958]\n",
      "Un:  [0.956, 0.956, 0.957, 0.959, 0.961, 0.959, 0.959, 0.958, 0.955]\n",
      "W:  [0.956, 0.956, 0.957, 0.959, 0.961, 0.957, 0.96, 0.958, 0.956]\n",
      "Un:  [0.956, 0.956, 0.957, 0.959, 0.961, 0.959, 0.959, 0.958, 0.955, 0.951]\n",
      "W:  [0.956, 0.956, 0.957, 0.959, 0.961, 0.957, 0.96, 0.958, 0.956, 0.956]\n",
      "Un:  [0.956, 0.956, 0.957, 0.959, 0.961, 0.959, 0.959, 0.958, 0.955, 0.951, 0.953]\n",
      "W:  [0.956, 0.956, 0.957, 0.959, 0.961, 0.957, 0.96, 0.958, 0.956, 0.956, 0.953]\n",
      "Un:  [0.956, 0.956, 0.957, 0.959, 0.961, 0.959, 0.959, 0.958, 0.955, 0.951, 0.953, 0.953]\n",
      "W:  [0.956, 0.956, 0.957, 0.959, 0.961, 0.957, 0.96, 0.958, 0.956, 0.956, 0.953, 0.953]\n",
      "Un:  [0.956, 0.956, 0.957, 0.959, 0.961, 0.959, 0.959, 0.958, 0.955, 0.951, 0.953, 0.953, 0.954]\n",
      "W:  [0.956, 0.956, 0.957, 0.959, 0.961, 0.957, 0.96, 0.958, 0.956, 0.956, 0.953, 0.953, 0.954]\n",
      "Un:  [0.956, 0.956, 0.957, 0.959, 0.961, 0.959, 0.959, 0.958, 0.955, 0.951, 0.953, 0.953, 0.954, 0.954]\n",
      "W:  [0.956, 0.956, 0.957, 0.959, 0.961, 0.957, 0.96, 0.958, 0.956, 0.956, 0.953, 0.953, 0.954, 0.954]\n",
      "Un:  [0.956, 0.956, 0.957, 0.959, 0.961, 0.959, 0.959, 0.958, 0.955, 0.951, 0.953, 0.953, 0.954, 0.954, 0.952]\n",
      "W:  [0.956, 0.956, 0.957, 0.959, 0.961, 0.957, 0.96, 0.958, 0.956, 0.956, 0.953, 0.953, 0.954, 0.954, 0.953]\n",
      "Un:  [0.956, 0.956, 0.957, 0.959, 0.961, 0.959, 0.959, 0.958, 0.955, 0.951, 0.953, 0.953, 0.954, 0.954, 0.952, 0.953]\n",
      "W:  [0.956, 0.956, 0.957, 0.959, 0.961, 0.957, 0.96, 0.958, 0.956, 0.956, 0.953, 0.953, 0.954, 0.954, 0.953, 0.953]\n",
      "Un:  [0.956, 0.956, 0.957, 0.959, 0.961, 0.959, 0.959, 0.958, 0.955, 0.951, 0.953, 0.953, 0.954, 0.954, 0.952, 0.953, 0.953]\n",
      "W:  [0.956, 0.956, 0.957, 0.959, 0.961, 0.957, 0.96, 0.958, 0.956, 0.956, 0.953, 0.953, 0.954, 0.954, 0.953, 0.953, 0.955]\n",
      "Un:  [0.956, 0.956, 0.957, 0.959, 0.961, 0.959, 0.959, 0.958, 0.955, 0.951, 0.953, 0.953, 0.954, 0.954, 0.952, 0.953, 0.953, 0.952]\n",
      "W:  [0.956, 0.956, 0.957, 0.959, 0.961, 0.957, 0.96, 0.958, 0.956, 0.956, 0.953, 0.953, 0.954, 0.954, 0.953, 0.953, 0.955, 0.952]\n",
      "Un:  [0.956, 0.956, 0.957, 0.959, 0.961, 0.959, 0.959, 0.958, 0.955, 0.951, 0.953, 0.953, 0.954, 0.954, 0.952, 0.953, 0.953, 0.952, 0.95]\n",
      "W:  [0.956, 0.956, 0.957, 0.959, 0.961, 0.957, 0.96, 0.958, 0.956, 0.956, 0.953, 0.953, 0.954, 0.954, 0.953, 0.953, 0.955, 0.952, 0.953]\n",
      "Un:  [0.956, 0.956, 0.957, 0.959, 0.961, 0.959, 0.959, 0.958, 0.955, 0.951, 0.953, 0.953, 0.954, 0.954, 0.952, 0.953, 0.953, 0.952, 0.95, 0.95]\n",
      "W:  [0.956, 0.956, 0.957, 0.959, 0.961, 0.957, 0.96, 0.958, 0.956, 0.956, 0.953, 0.953, 0.954, 0.954, 0.953, 0.953, 0.955, 0.952, 0.953, 0.952]\n"
     ]
    }
   ],
   "source": [
    "UnweightedAccuracy = []\n",
    "WeightedAccuracy = []\n",
    "X = []\n",
    "\n",
    "i = 1\n",
    "for i in range(1, 21):\n",
    "    X.append(i)\n",
    "    \n",
    "    KNN_Unweighted = KNN(X_train, y_train, i , False) # Unweighted KNN\n",
    "    yHatValid = KNN_Unweighted.predict(X_valid)\n",
    "    UnweightedConfusionMatrix = confusion_matrix(y_valid, yHatValid)\n",
    "    \n",
    "    Accuracy = (np.sum(np.diag(UnweightedConfusionMatrix)))/UnweightedConfusionMatrix.sum()\n",
    "#     error = 1 - Accuracy\n",
    "    \n",
    "    UnweightedAccuracy.append(Accuracy)\n",
    "    print(\"Un: \", UnweightedAccuracy)\n",
    "    \n",
    "    \n",
    "    KNN_Weighted = KNN(X_train, y_train, i , True) # Weighted\n",
    "    yHatValid = KNN_Weighted.predict(X_valid)\n",
    "    WeightedConfusionMatrix = confusion_matrix(y_valid, yHatValid)\n",
    "    \n",
    "    Accuracy = (np.sum(np.diag(WeightedConfusionMatrix)))/WeightedConfusionMatrix.sum()\n",
    "#     error = 1 - Accuracy    \n",
    "    \n",
    "    WeightedAccuracy.append(Accuracy)\n",
    "    print(\"W: \", WeightedAccuracy)\n",
    "\n",
    "\n"
   ]
  },
  {
   "cell_type": "code",
   "execution_count": 10,
   "metadata": {},
   "outputs": [
    {
     "data": {
      "image/png": "[encoded data removed]",
      "text/plain": [
       "<matplotlib.figure.Figure at 0x1a0c8ccdd8>"
      ]
     },
     "metadata": {},
     "output_type": "display_data"
    }
   ],
   "source": [
    "import matplotlib.patches as matpatches\n",
    "\n",
    "# Both plot on X to see the difference\n",
    "plt.plot(X, UnweightedAccuracy, X, WeightedAccuracy)\n",
    "# Make measurement on every X in loop\n",
    "plt.xticks(X)\n",
    "\n",
    "# label x\n",
    "plt.xlabel(\"K\", fontsize = 15)\n",
    "# label y\n",
    "plt.ylabel('Accuracy', fontsize = 15)\n",
    "\n",
    "# Make color for each color\n",
    "Unweighted = matpatches.Patch(color='orange', label='Unweighted')\n",
    "weighted = matpatches.Patch(color='lightskyblue', label='Weighted')\n",
    "# Make bars on top\n",
    "plt.legend(handles=[weighted, Unweighted])\n",
    "\n",
    "plt.show()"
   ]
  },
  {
   "cell_type": "markdown",
   "metadata": {},
   "source": [
    "Weighted appear to perform better because it has higher accuracy. When K is 5, K  attains the best accuracy on the validation set?"
   ]
  },
  {
   "cell_type": "markdown",
   "metadata": {},
   "source": [
    "### [15 points] Problem 3 - Perceptron Learning By Hand \n",
    "***\n",
    "\n",
    "Consider the following two-feature training set \n",
    "\n",
    "$$\n",
    "\\{({\\bf x}_1 = (1,1), y_1 = 1),~({\\bf x}_2 = (1,-1), y_2 =-1),~({\\bf x}_3 = (-1,-1), y_3 = 1),~({\\bf x}_4 = (-1,1), y_4 = -1)\\}\n",
    "$$\n"
   ]
  },
  {
   "cell_type": "markdown",
   "metadata": {},
   "source": [
    "**Part A**:  Perform one pass of the Perceptron Algorithm by hand in the order $1,~2,~3,~4$ starting with the initial weights and bias ${\\bf w} = (0,1)$ and $b = 0$.  Show each step in the Perceptron Algorithm and each intermediate set of weights in Markdown. "
   ]
  },
  {
   "cell_type": "markdown",
   "metadata": {
    "collapsed": true
   },
   "source": [
    "$$\\text{Perceptron of activation }, a=\\sum_{k=1}^{p}{W_k}^Tx_k+b \\implies  \\begin{cases} a \\ge 0 \\implies \\hat{y} = +1 \\\\ a < 0 \\implies \\hat{y} = -1 \\end{cases} $$\n",
    "\n",
    "$$\\text{if } ya \\le 0 \\implies \\begin{cases} {\\bf w} \\impliedby {\\bf w} + y{\\bf x}  \\\\ b \\impliedby b + y \\end{cases}$$"
   ]
  },
  {
   "cell_type": "markdown",
   "metadata": {},
   "source": [
    "$${\\bf w} = (0,1) \\text{ and } b = 0 $$\n",
    "\n",
    "$$ \\vec{\\bf{x}_1} = (1,1) , a_1 = \\left[ {\\begin{array}{cc}0&1 \\end{array}} \\right] \\times \\left[\\begin{array}{c}1\\\\1 \\end{array} \\right] = 1 $$\n",
    "\n",
    "$$a_1 \\ge 0 \\implies \\hat{y} = +1 = y_1$$\n",
    "$$a_1y_1 = 1 \\times 1 = 1 > 0$$"
   ]
  },
  {
   "cell_type": "markdown",
   "metadata": {},
   "source": [
    "$$ \\vec{\\bf{x}_2} = (1,-1) , a_2 = \\left[ {\\begin{array}{cc}0&1 \\end{array}} \\right] \\times \\left[\\begin{array}{c}1\\\\-1 \\end{array} \\right] = -1 $$\n",
    "$$a_2 < 0 \\implies \\hat{y} = -1 $$\n",
    "$$a_2y_2 = (-1) \\times (-1) = 1 > 0$$"
   ]
  },
  {
   "cell_type": "markdown",
   "metadata": {},
   "source": [
    "$$ \\vec{\\bf{x}_3} = (-1,-1) , a_3 = \\left[ {\\begin{array}{cc}0&1 \\end{array}} \\right] \\times \\left[\\begin{array}{c}-1\\\\-1 \\end{array} \\right] = -1 $$\n",
    "\n",
    "$$a_3 < 0 \\implies \\hat{y} = -1 $$\n",
    "$$a_3y_3 = (-1) \\times (1) = -1 < 0 , \\text{This is wrong because recall }$$\n",
    "$$\\text{if } ya \\le 0 \\implies \\begin{cases} {\\bf w} \\impliedby {\\bf w} + y_3{\\bf x_3}  \\\\ b \\impliedby b + y_3 \\end{cases}$$\n",
    "\n",
    "$$ w = \\left[ {\\begin{array}{c}0\\\\1 \\end{array}} \\right] + (1)\\left[ {\\begin{array}{c}-1\\\\-1 \\end{array}} \\right] = \\left[ {\\begin{array}{c}-1\\\\0 \\end{array}} \\right]$$\n",
    "$$b = 0 + 1 = 1$$\n",
    "$$\\text{Model will classify all points correctly from now on based on ${\\bf w}$ and b}$$\n",
    "$$ a_3 = \\left[ {\\begin{array}{cc}-1&0 \\end{array}} \\right] \\times \\left[\\begin{array}{c}-1\\\\-1 \\end{array} \\right] = 1 $$\n",
    "$$a_3 > 0 \\implies \\hat{y} = +1$$\n",
    "$$a_3y_3 = (1)(1) = 1 > 0$$"
   ]
  },
  {
   "cell_type": "markdown",
   "metadata": {},
   "source": [
    "$$ \\vec{\\bf{x}_4} = (-1,1) , a_4 = \\left[ {\\begin{array}{cc}-1&0 \\end{array}} \\right] \\times \\left[\\begin{array}{c}-1\\\\1 \\end{array} \\right] = 1 $$\n",
    "$$a_4 > 0 \\implies \\hat{y} = +1$$\n",
    "$$a_4y_4=(1)(1) = -1 < 0 , \\text{This is wrong because recall }$$\n",
    "$$\\text{if } ya \\le 0 \\implies \\begin{cases} {\\bf w} \\impliedby {\\bf w} + y_4{\\bf x_4}  \\\\ b \\impliedby b + y_4 \\end{cases}$$\n",
    "\n",
    "$$ {\\bf w} = \\left[ {\\begin{array}{c}-1\\\\0 \\end{array}} \\right] + (-1)\\left[ {\\begin{array}{c}-1\\\\1 \\end{array}} \\right] = \\left[ {\\begin{array}{c}0\\\\-1 \\end{array}} \\right]$$\n",
    "$$b = 1 + (-1) = 0$$\n",
    "$$\\text{Model will classify all points correctly from now on based on ${\\bf w}$ and b}$$\n",
    "$$ a_4 = \\left[ {\\begin{array}{cc}0&-1 \\end{array}} \\right] \\times \\left[\\begin{array}{c}-1\\\\1 \\end{array} \\right] = -1 $$\n",
    "$$a_4 < 0 \\implies \\hat{y} = -1$$\n",
    "$$a_4y_4 = (-1)(-1) = 1 > 0$$"
   ]
  },
  {
   "cell_type": "markdown",
   "metadata": {},
   "source": [
    "**Part B**:  What label would your final Perceptron classifier predict for each of the training points? "
   ]
  },
  {
   "cell_type": "markdown",
   "metadata": {
    "collapsed": true
   },
   "source": [
    "$$ {\\bf w} = \\left[ {\\begin{array}{c}-1\\\\0 \\end{array}} \\right] + (-1)\\left[ {\\begin{array}{c}-1\\\\1 \\end{array}} \\right] = \\left[ {\\begin{array}{c}0\\\\-1 \\end{array}} \\right]$$\n",
    "$$b = 1 + (-1) = 0$$\n",
    "$$\n",
    "\\{({\\bf x}_1 = (1,1), y_1 = 1),~({\\bf x}_2 = (1,-1), y_2 =-1),~({\\bf x}_3 = (-1,-1), y_3 = 1),~({\\bf x}_4 = (-1,1), y_4 = -1)\\}\n",
    "$$\n",
    "$$ a_1 = \\left[ {\\begin{array}{cc}0&-1 \\end{array}} \\right] \\times \\left[\\begin{array}{c}1\\\\1 \\end{array} \\right] = -1 < 0 => \\hat{y} = -1 $$\n",
    "$$ a_2 = \\left[ {\\begin{array}{cc}0&-1 \\end{array}} \\right] \\times \\left[\\begin{array}{c}1\\\\-1 \\end{array} \\right] = 1 \\ge 0 => \\hat{y} = 1 $$\n",
    "$$ a_3 = \\left[ {\\begin{array}{cc}0&-1 \\end{array}} \\right] \\times \\left[\\begin{array}{c}-1\\\\-1 \\end{array} \\right] = 1 \\ge 0 => \\hat{y} = 1 $$\n",
    "$$ a_4 = \\left[ {\\begin{array}{cc}0&-1 \\end{array}} \\right] \\times \\left[\\begin{array}{c}-1\\\\1 \\end{array} \\right] = -1 < 0 => \\hat{y} = -1 $$"
   ]
  },
  {
   "cell_type": "markdown",
   "metadata": {},
   "source": [
    "**Part C**:  Is it possible that your Perceptron classifier would ever perfectly classify all training examples after more passes of the Perceptron Algorithm?  Clearly explain your reasoning. "
   ]
  },
  {
   "cell_type": "markdown",
   "metadata": {
    "collapsed": true
   },
   "source": [
    "It is impossible to perfectly classify all training examples because based on the training set:\n",
    "$$\n",
    "\\{({\\bf x}_1 = (1,1), y_1 = 1),~({\\bf x}_2 = (1,-1), y_2 =-1),~({\\bf x}_3 = (-1,-1), y_3 = 1),~({\\bf x}_4 = (-1,1), y_4 = -1)\\}\n",
    "$$\n",
    "You can't draw a linear line that separates 1 and -1.\n",
    "The first and third quadrant are 1, The second and fourth quadrant are -1"
   ]
  },
  {
   "cell_type": "markdown",
   "metadata": {},
   "source": [
    "### [35 points] Problem 4 - The Margin and Convergence of the Perceptron Learning Algorithm \n",
    "***\n",
    "\n",
    "In this problem you will implement the Perceptron Learning Algorithm and use it to explore the convergence of the algorithm on linearly separable simulated data sets with particular properties.  Take a look at the `Perceptron` class below. "
   ]
  },
  {
   "cell_type": "code",
   "execution_count": 11,
   "metadata": {
    "collapsed": true
   },
   "outputs": [],
   "source": [
    "class Perceptron:\n",
    "    \"\"\"\n",
    "    Class to fit a perceptron classifier to simulated data \n",
    "    \"\"\"\n",
    "    def __init__(self, n=100, margin=0.1, random_state=1241, X=None, y=None):\n",
    "        \"\"\"\n",
    "        Initializes Perceptron class.  Generates training data and sets parameters. \n",
    "        \n",
    "        :param n: the number of training examples\n",
    "        :param margin: the margin between decision boundary and data\n",
    "        :param random_state: seed for random number generator \n",
    "        :param X: Input training features.  Only used for unit testing. \n",
    "        :param y: Input training labels.  Only used for unit testing. \n",
    "        \"\"\"\n",
    "        \n",
    "        # initalize random seed \n",
    "        np.random.seed(random_state)\n",
    "        \n",
    "        # initialize parameters  \n",
    "        self.n, self.M = n, margin\n",
    "        \n",
    "        # generate random simulated data \n",
    "        self.X_train, self.y_train = self.gen_data()\n",
    "        \n",
    "        # only used for unit tests \n",
    "        if X is not None and y is not None: self.X_train, self.y_train, self.n = X, y, X.shape[0]\n",
    "        \n",
    "        # initialize weights and bias to zero \n",
    "        self.w = np.array([1.0,0.0])\n",
    "        self.b = 0 \n",
    "        \n",
    "        # initialize total mistake counter \n",
    "        self.num_mistakes = 0 \n",
    "        \n",
    "    def train(self, max_epochs=1000000):\n",
    "        \"\"\"\n",
    "        Runs the Perceptron Algorithm until all training data is correctly classified. \n",
    "        \n",
    "        :param max_epochs: Maximum number of epochs to perform before stopping.  Use for development. \n",
    "        \"\"\"\n",
    "        \n",
    "#         self.w = self.w \n",
    "#         self.b = self.b \n",
    "            \n",
    "#         print(\"w: \", self.w)\n",
    "#         print(\"x_train: \", self.X_train)\n",
    "#         print(\"y_train: \", self.y_train)\n",
    "#         print(\"y0\", self.y_train[1])\n",
    "#         print(self.y_train.shape)\n",
    "        #--------------------------------------------\n",
    "\n",
    "        # Implement epochs.  That is, your outer-most loop should loop over the entirety of \n",
    "        # the training data (in random order) and perform updates\n",
    "        positive = False\n",
    "        # Get length of self.X_train and arange from begining to the end\n",
    "        length = np.arange(len(self.X_train))\n",
    "#         print(length)\n",
    "        \n",
    "        while not positive:\n",
    "            np.random.shuffle(length)\n",
    "#             print(length)\n",
    "            positive = True\n",
    "            for i in length:\n",
    "                activation = np.dot(self.w, self.X_train[i]) + self.b\n",
    "                if activation * self.y_train[i] < 0:\n",
    "                    self.num_mistakes += 1\n",
    "                    positive = False\n",
    "                    self.w = self.w + self.y_train[i]*self.X_train[i]\n",
    "                    self.b = self.b + self.y_train[i]\n",
    "    \n",
    "        #--------------------------------------------\n",
    "                    \n",
    "    def plot_model(self):\n",
    "        \"\"\"\n",
    "        Plots the simulated data.  Plots the learned decision boundary (#TODO) \n",
    "        \"\"\"\n",
    "        fig, ax = plt.subplots(nrows=1, ncols=1, figsize=(8,8))\n",
    "        colors = [\"steelblue\" if yi==-1 else \"#a76c6e\" for yi in self.y_train]\n",
    "        ax.scatter(self.X_train[:,0], self.X_train[:,1], color=colors, s=75)\n",
    "#         xplot=np.array([0,0])  # TODO \n",
    "#         yplot=np.array([-1,1]) # TODO \n",
    "        \n",
    "        import numpy as np\n",
    "        \n",
    "        # Draw a line for x: from -1 to 1, there are 100 points\n",
    "        xplot = np.linspace(-1, 1, 100)\n",
    "        # x2 = (-b / w2) - ((w1 * x1) / w2): decision boundary\n",
    "        yplot = (-(self.b) / self.w[1]) - ((self.w[0] * xplot) / self.w[1])\n",
    "        \n",
    "        ax.plot(xplot, yplot, color=\"black\", lw=2)\n",
    "        ax.grid(alpha=0.25)\n",
    "        ax.set_xlabel(r\"$x_1$\", fontsize=16)\n",
    "        ax.set_ylabel(r\"$x_2$\", fontsize=16)\n",
    "        \n",
    "    def gen_data(self):\n",
    "        \"\"\"\n",
    "        Generate random linearly separable data with given margin. \n",
    "        Note: You should not need to change this function \n",
    "        \"\"\"\n",
    "        flip = np.random.choice([-1,1])\n",
    "        pos_x1 = np.random.uniform(-1/np.sqrt(2), 1/np.sqrt(2), int(self.n/2))\n",
    "        pos_x2 = np.random.uniform(self.M+flip*0.1,1/np.sqrt(2),int(self.n/2))\n",
    "        pos_x2[-1] = self.M+flip*0.1 \n",
    "        neg_x1 = np.random.uniform(-1/np.sqrt(2), 1/np.sqrt(2), int(self.n/2))\n",
    "        neg_x2 = np.random.uniform(-1/np.sqrt(2),-self.M+flip*0.1,int(self.n/2))\n",
    "        neg_x2[-1] = -self.M+flip*0.1\n",
    "        X = np.concatenate((np.column_stack((pos_x1, pos_x2)), np.column_stack((neg_x1, neg_x2))))\n",
    "        X = np.dot(X, np.array([[np.cos(np.pi/6), np.sin(np.pi/6)], [-np.sin(np.pi/6), np.cos(np.pi/6)]]))\n",
    "        y = np.array([+1]*int(self.n/2) + [-1]*int(self.n/2))\n",
    "        rand_order = np.random.choice(range(self.n), replace=False, size=self.n)\n",
    "        return X[rand_order], y[rand_order]\n",
    "                                   \n",
    "        "
   ]
  },
  {
   "cell_type": "markdown",
   "metadata": {},
   "source": [
    "**Part A**: The `Perceptron` class above has the capability to generate it's own training data with certain properties. Execute the cell below to generate $n=100$ simulated training examples and plot them.  Experiment with the `margin` parameter (good values to try are between $0.01$ and $0.4$).  Explain what the `margin` parameter is doing. "
   ]
  },
  {
   "cell_type": "code",
   "execution_count": 12,
   "metadata": {},
   "outputs": [
    {
     "name": "stderr",
     "output_type": "stream",
     "text": [
      "/Users/user/anaconda3/lib/python3.6/site-packages/ipykernel_launcher.py:88: RuntimeWarning: invalid value encountered in double_scalars\n",
      "/Users/user/anaconda3/lib/python3.6/site-packages/ipykernel_launcher.py:88: RuntimeWarning: divide by zero encountered in true_divide\n"
     ]
    },
    {
     "data": {
      "image/png": "[encoded data removed]",
      "text/plain": [
       "<matplotlib.figure.Figure at 0x1a0c8d4c88>"
      ]
     },
     "metadata": {},
     "output_type": "display_data"
    }
   ],
   "source": [
    "perc = Perceptron(n=100, margin=0.4, random_state=1241)\n",
    "perc.plot_model()"
   ]
  },
  {
   "cell_type": "markdown",
   "metadata": {},
   "source": [
    "The margin of a classsifier is the distance between decision boundary and nearest point\n"
   ]
  },
  {
   "cell_type": "markdown",
   "metadata": {},
   "source": [
    "The margin of a classsifier is the distance between decision boundary and nearest point.\n",
    "First of all, I noticed the size of graph, meaning that if you margin is 3, then the $x_2$ axis will expand to 3. And from margin is approaching to 0.4, it brings all red dots to a line especially when margin is 0.6 . When margin is 0.8, it brings all blue dots to a line shape. And when margin is 0.7, it separate both red and blue average contribution, meaning they look like a mirror distribution."
   ]
  },
  {
   "cell_type": "markdown",
   "metadata": {},
   "source": [
    "**Part B**: Modify the `train` method in the `Perceptron` class to perform the Perceptron Learning Algorithm and learn weights ${\\bf w}$ and bias $b$ that perfectly classify the linearly separable training data. Your implementation should: \n",
    "\n",
    "- visit all training examples in a random shuffled order over each training epoch \n",
    "- terminate when you perform an entire epoch without making a single classification error on the training data \n",
    "- use the `self.num_mistakes` counter to count the total number of classification errors that are made over the entire training process \n",
    "\n",
    "When you think you're done, execute the cell below to run a unit test based on the example starting on Slide 9 of the the [Perceptron Lecture](https://www.cs.colorado.edu/~ketelsen/files/courses/csci4622/slides/lesson07.pdf).  \n",
    "\n",
    "**Notes**: \n",
    "- You should not use Scikit-Learn's Perceptron object in your solution. \n",
    "- It's a good idea to implement a stopping criterion based on the `max_epochs` parameter right away.  Later we'll look at training sets that will terminate on their own, but implementing this stop will save you some pain in the development process.  \n",
    "- Do not change the initial guess for the weights and bias.  These values were chosen to match the example done in lecture for the unit tests. "
   ]
  },
  {
   "cell_type": "code",
   "execution_count": null,
   "metadata": {
    "collapsed": true
   },
   "outputs": [],
   "source": [
    "%run -i tests/tests.py \"prob 4A\""
   ]
  },
  {
   "cell_type": "markdown",
   "metadata": {},
   "source": [
    "**Part C**: Modify the `plot_model` method so that it plots the learned decision boundary with the training data.  Demonstrate that your method is working by training a perceptron with a margin of your choice and displaying the resulting plot. \n"
   ]
  },
  {
   "cell_type": "code",
   "execution_count": 13,
   "metadata": {},
   "outputs": [
    {
     "data": {
      "image/png": "[encoded data removed]",
      "text/plain": [
       "<matplotlib.figure.Figure at 0x1a0cb15ac8>"
      ]
     },
     "metadata": {},
     "output_type": "display_data"
    }
   ],
   "source": [
    "\n",
    "# x2 = (-b / w2) - ((w1 * x1) / w2)\n",
    "\n",
    "# margin = (-self.b / self.w) - ((self.w * self.X_train) / self.w)\n",
    "perc = Perceptron(n=100, margin=0.05, random_state=1241)\n",
    "perc.train()\n",
    "perc.plot_model()\n"
   ]
  },
  {
   "cell_type": "markdown",
   "metadata": {},
   "source": [
    "**Part D**: In lecture we stated that the time it takes to train the Perceptron on a linearly separable training set is determined by the `margin` of the training data. Recall that the margin of a linear classifier is the distance from the decision boundary to the closest training point (Yes, I just answered **Part A** for you). \n",
    "\n",
    "An important theorem for Perceptron training states that if you train a perceptron on linearly separable training data with margin $M > 0$ and each training point satisfies $\\|{\\bf x}\\|_2 \\leq 1$ then the Perceptron Training Algorithm will complete after making at most $1/M^2$ classification mistakes (and thus, at most $1/M^2$ updates of the weights and bias). \n",
    "\n",
    "In this exercise you will empirically verify this theorem: \n",
    "- Train 20 perceptrons on randomly generated training sets of size $n=100$ with margins of $M=0.3, 0.1, 0.01, 0.001,$ and $0.0001$ (be sure to change the value of `random_state` for each run).\n",
    "- Compute the **average** number of mistakes for each margin. \n",
    "- Produce a log-log plot with $1/M$ on the horizontal axis and average number of mistakes on the vertical axis. \n",
    "- On the same set of axes, plot the theoretical upper bound on the number of training mistakes. \n",
    "\n",
    "Based on the plot, can you say that we have good empirical evidence that the theorem is true?  Briefly justify your conclusion based on your plot. "
   ]
  },
  {
   "cell_type": "code",
   "execution_count": 15,
   "metadata": {},
   "outputs": [
    {
     "name": "stdout",
     "output_type": "stream",
     "text": [
      "PlotLog:  [3.3333333333333335]\n",
      "PlotLog:  [3.3333333333333335, 10.0]\n",
      "PlotLog:  [3.3333333333333335, 10.0, 100.0]\n",
      "PlotLog:  [3.3333333333333335, 10.0, 100.0, 1000.0]\n",
      "PlotLog:  [3.3333333333333335, 10.0, 100.0, 1000.0, 10000.0]\n",
      "Mistake:  [5.0, 21.5, 171.25, 651.25, 1554.5]\n",
      "Most:  [11.111111111111112, 100.0, 10000.0, 1000000.0, 100000000.0]\n"
     ]
    },
    {
     "data": {
      "image/png": "[encoded data removed]",
      "text/plain": [
       "<matplotlib.figure.Figure at 0x1a0d9c9160>"
      ]
     },
     "metadata": {},
     "output_type": "display_data"
    }
   ],
   "source": [
    "M = [0.3, 0.1, 0.01, 0.001, 0.0001]\n",
    "Mistakes = [] # 1/M\n",
    "AtMostMistakes = [] # (1/M) ^2\n",
    "PlotLogLog = []\n",
    "\n",
    "for i in range(5):\n",
    "#     print(i)\n",
    "    MistakeNum = 0\n",
    "    \n",
    "    for j in range(len(M)):\n",
    "        # Make instances of perceptrons with each margin param and random_state\n",
    "        perc = Perceptron(n=100, margin=M[i], random_state = 1241 + (j*50))\n",
    "        # Train the instances\n",
    "        perc.train()\n",
    "        \n",
    "#         print(perc.num_mistakes)\n",
    "        # Compute the average number of mistakes for each margin\n",
    "        MistakeNum += perc.num_mistakes\n",
    "#         print(MistakeNum)\n",
    "        \n",
    "    Mistakes.append(MistakeNum / 4) # for each margin of M: 20 / 5 = 4\n",
    "#     print(\"Mistake: \", Mistakes)\n",
    "    AtMostMistakes.append((1 / M[i]) **2)\n",
    "#     print(\"Most: \", AtMostMistakes)\n",
    "    PlotLogLog.append(1 / M[i])\n",
    "    print(\"PlotLog: \", PlotLogLog)\n",
    "\n",
    "print(\"Mistake: \", Mistakes)\n",
    "print(\"Most: \", AtMostMistakes)\n",
    "\n",
    "# Make a plot with log scaling on both the x and y axis.\n",
    "plt.loglog(PlotLogLog, Mistakes, PlotLogLog, AtMostMistakes)\n",
    "\n",
    "# Make labels\n",
    "plt.xlabel(\"Uppere Bound\")\n",
    "plt.ylabel(\"Average\")\n",
    "\n",
    "# Make color for each color\n",
    "Unweighted = matpatches.Patch(color='orange', label='Upper Bound')\n",
    "weighted = matpatches.Patch(color='lightskyblue', label='Average')\n",
    "\n",
    "# Make bars on top left\n",
    "plt.legend(handles=[Unweighted, weighted])\n",
    "\n",
    "plt.show()"
   ]
  }
 ],
 "metadata": {
  "kernelspec": {
   "display_name": "Python 3",
   "language": "python",
   "name": "python3"
  },
  "language_info": {
   "codemirror_mode": {
    "name": "ipython",
    "version": 3
   },
   "file_extension": ".py",
   "mimetype": "text/x-python",
   "name": "python",
   "nbconvert_exporter": "python",
   "pygments_lexer": "ipython3",
   "version": "3.6.4"
  }
 },
 "nbformat": 4,
 "nbformat_minor": 2
}
